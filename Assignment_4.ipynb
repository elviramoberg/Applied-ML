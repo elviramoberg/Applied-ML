{
 "cells": [
  {
   "cell_type": "markdown",
   "id": "4678c033",
   "metadata": {},
   "source": [
    "# Assignment 4: Software for neural network training"
   ]
  },
  {
   "cell_type": "markdown",
   "id": "cc8a4047",
   "metadata": {},
   "source": [
    "**By: Tim Bakkenes, Elvira Moberg and Agnes Magnusson**"
   ]
  },
  {
   "cell_type": "code",
   "execution_count": 22,
   "id": "5f0fea34",
   "metadata": {},
   "outputs": [],
   "source": [
    "import pandas as pd\n",
    "import numpy as np\n",
    "import torch"
   ]
  },
  {
   "cell_type": "markdown",
   "id": "56578f6f",
   "metadata": {},
   "source": [
    "# Task 1"
   ]
  },
  {
   "cell_type": "markdown",
   "id": "1761f4d2",
   "metadata": {},
   "source": [
    "Loading the synthetic dataset."
   ]
  },
  {
   "cell_type": "code",
   "execution_count": 23,
   "id": "aacba01e",
   "metadata": {},
   "outputs": [],
   "source": [
    "# You may need to edit the path, depending on where you put the files.\n",
    "data = pd.read_csv('data/a4_synthetic.csv')\n",
    "\n",
    "X = data.drop(columns='y').to_numpy()\n",
    "Y = data.y.to_numpy()"
   ]
  },
  {
   "cell_type": "markdown",
   "id": "b166d6ba",
   "metadata": {},
   "source": [
    "Training a linear regression model for this synthetic dataset."
   ]
  },
  {
   "cell_type": "code",
   "execution_count": 24,
   "id": "111ff34b",
   "metadata": {},
   "outputs": [
    {
     "name": "stdout",
     "output_type": "stream",
     "text": [
      "Epoch 1: MSE = 0.7999662647869263\n",
      "Epoch 2: MSE = 0.017392394159767264\n",
      "Epoch 3: MSE = 0.009377418162580966\n",
      "Epoch 4: MSE = 0.009355327616258364\n",
      "Epoch 5: MSE = 0.009365440349979508\n",
      "Epoch 6: MSE = 0.009366988411857164\n",
      "Epoch 7: MSE = 0.009367207068114567\n",
      "Epoch 8: MSE = 0.009367238481529512\n",
      "Epoch 9: MSE = 0.009367244712136654\n",
      "Epoch 10: MSE = 0.009367244620257224\n"
     ]
    }
   ],
   "source": [
    "np.random.seed(1)\n",
    "\n",
    "w_init = np.random.normal(size=(2, 1))\n",
    "b_init = np.random.normal(size=(1, 1))\n",
    "\n",
    "# We just declare the parameter tensors. Do not use nn.Linear.\n",
    "w = torch.tensor(w_init, dtype=torch.float, requires_grad=True) \n",
    "b = torch.tensor(b_init, dtype=torch.float, requires_grad=True) \n",
    "\n",
    "eta = 1e-2\n",
    "opt = torch.optim.SGD([w, b], lr=eta)   \n",
    "\n",
    "for i in range(10):\n",
    "    \n",
    "    sum_err = 0\n",
    "    \n",
    "    for row in range(X.shape[0]):\n",
    "        x = torch.tensor(X[[row], :], dtype=torch.float)  # added dtype=torch.float to ensure same format\n",
    "        y = torch.tensor(Y[[row]], dtype=torch.float)     # added dtype=torch.float to ensure same format\n",
    "\n",
    "        # Forward pass.\n",
    "        y_pred = x @ w + b\n",
    "        err = (y - y_pred)**2\n",
    "        \n",
    "        # Backward and update.\n",
    "        opt.zero_grad()\n",
    "        err.backward()\n",
    "        opt.step()\n",
    "        \n",
    "        # For statistics.\n",
    "        sum_err += err.item()\n",
    "\n",
    "    mse = sum_err / X.shape[0]\n",
    "    print(f'Epoch {i+1}: MSE =', mse)"
   ]
  },
  {
   "cell_type": "markdown",
   "id": "ee3f221d",
   "metadata": {},
   "source": [
    "# Task 2"
   ]
  },
  {
   "cell_type": "code",
   "execution_count": 25,
   "id": "56be71d4",
   "metadata": {},
   "outputs": [],
   "source": [
    "class Tensor:\n",
    "    \n",
    "    # Constructor. Just store the input values.\n",
    "    def __init__(self, data, requires_grad=False, grad_fn=None):\n",
    "        self.data = data\n",
    "        self.shape = data.shape\n",
    "        self.grad_fn = grad_fn\n",
    "        self.requires_grad = requires_grad\n",
    "        self.grad = None\n",
    "        \n",
    "    # So that we can print the object or show it in a notebook cell.\n",
    "    def __repr__(self):\n",
    "        dstr = repr(self.data)\n",
    "        if self.requires_grad:\n",
    "            gstr = ', requires_grad=True'\n",
    "        elif self.grad_fn is not None:\n",
    "            gstr = f', grad_fn={self.grad_fn}'\n",
    "        else:\n",
    "            gstr = ''\n",
    "        return f'Tensor({dstr}{gstr})'\n",
    "    \n",
    "    # Extract one numerical value from this tensor.\n",
    "    def item(self):\n",
    "        return self.data.item()    \n",
    "    \n",
    "    # YOUR WORK WILL BE DONE BELOW\n",
    "    \n",
    "    # For Task 2:\n",
    "    \n",
    "    # Operator +\n",
    "    def __add__(self, right):\n",
    "        # Call the helper function defined below.\n",
    "        return addition(self, right)\n",
    "\n",
    "    # Operator -\n",
    "    def __sub__(self, right):\n",
    "        return substraction(self, right)\n",
    "                \n",
    "    # Operator @\n",
    "    def __matmul__(self, right):\n",
    "        return matrix_multiplication(self, right)\n",
    "\n",
    "    # Operator **\n",
    "    def __pow__(self, right):\n",
    "        # NOTE! We are assuming that right is an integer here, not a Tensor!\n",
    "        if not isinstance(right, int):\n",
    "            raise Exception('only integers allowed')\n",
    "        if right < 2:\n",
    "            raise Exception('power must be >= 2')\n",
    "        else: \n",
    "            return power(self, right)\n",
    "\n",
    "    \n",
    "    # Backward computations. Will be implemented in Task 4.\n",
    "    def backward(self, grad_output=None):\n",
    "        # We first check if this tensor has a grad_fn: that is, one of the \n",
    "        # nodes that you defined in Task 3.\n",
    "        if self.grad_fn is not None:\n",
    "            # If grad_fn is defined, we have computed this tensor using some operation.\n",
    "            if grad_output is None:\n",
    "                # This is the starting point of the backward computation.\n",
    "                # This will typically be the tensor storing the output of\n",
    "                # the loss function, on which we have called .backward()\n",
    "                # in the training loop.\n",
    "                \n",
    "                #initialize grad output to 1s\n",
    "                grad_output = np.ones_like(self.data)\n",
    "               \n",
    "                self.grad_fn.backward(grad_output)\n",
    "            else:\n",
    "                # This is an intermediate node in the computational graph.                \n",
    "                # This corresponds to any intermediate computation, such as\n",
    "                # a hidden layer.\n",
    "\n",
    "                #call the backward function recursively \n",
    "                self.grad_fn.backward(grad_output)\n",
    "        else:\n",
    "            # If grad_fn is not defined, this is an endpoint in the computational\n",
    "            # graph: learnable model parameters or input data.\n",
    "            if self.requires_grad:\n",
    "                # This tensor *requires* a gradient to be computed. This will\n",
    "                # typically be a tensor that holds learnable parameters.\n",
    "\n",
    "                #save grad_output in self.grad                \n",
    "                self.grad = grad_output\n",
    "            \n",
    "            else:\n",
    "                # This tensor *does not require* a gradient to be computed. This \n",
    "                # will typically be a tensor holding input data.\n",
    "                \n",
    "                #terminate the recursion\n",
    "                return \n",
    "\n",
    "        \n",
    "# A small utility where we simply create a Tensor object. We use this to \n",
    "# mimic torch.tensor.\n",
    "def tensor(data, requires_grad=False):\n",
    "    return Tensor(data, requires_grad)\n",
    "        \n",
    "# We define helper functions to implement the various arithmetic operations.\n",
    "\n",
    "# This function takes two tensors as input, and returns a new tensor holding\n",
    "# the result of an element-wise addition on the two input tensors.\n",
    "def addition(left, right):\n",
    "    new_data = left.data + right.data \n",
    "    grad_fn = AdditionNode(left, right)\n",
    "    return Tensor(new_data, grad_fn=grad_fn)\n",
    "\n",
    "def substraction(left, right):\n",
    "    new_data = left.data - right.data\n",
    "    grad_fn = SubtractionNode(left, right)\n",
    "    return Tensor(new_data, grad_fn=grad_fn)\n",
    "\n",
    "def matrix_multiplication(left, right):\n",
    "    new_data = left.data @ right.data\n",
    "    grad_fn = MatrixMultiplicationNode(left, right)\n",
    "    return Tensor(new_data, grad_fn=grad_fn)\n",
    "\n",
    "def power(left, right):\n",
    "    new_data = left.data**right\n",
    "    grad_fn = PowerNode(left, right)\n",
    "    return Tensor(new_data, grad_fn=grad_fn)\n",
    "\n",
    "def tanh(x):\n",
    "    new_data = np.tanh(x.data)\n",
    "    grad_fn = TanhNode(x)\n",
    "    return Tensor(new_data, grad_fn=grad_fn)\n",
    "\n",
    "def sigmoid(x):\n",
    "    # Ensure x.data is a numpy array\n",
    "    data = np.asarray(x.data)\n",
    "    new_data = 1 / (1 + np.exp(-data))\n",
    "    grad_fn = SigmoidNode(x)\n",
    "    return Tensor(new_data, grad_fn=grad_fn)\n",
    "    \n",
    "def BCELoss(y_pred, y_true):\n",
    "    #using sigmoid to convert y_pred from logits to probabilities\n",
    "    y_prob = sigmoid(y_pred)\n",
    "    new_data = -y_true.data*np.log(y_prob.data) - (1-y_true.data)*np.log(1-y_prob.data)\n",
    "    grad_fn = BCELossNode(y_prob, y_true)\n",
    "    return Tensor(new_data, grad_fn=grad_fn)"
   ]
  },
  {
   "cell_type": "markdown",
   "id": "36d0f04c",
   "metadata": {},
   "source": [
    "Some sanity checks."
   ]
  },
  {
   "cell_type": "code",
   "execution_count": 27,
   "id": "f2014827",
   "metadata": {},
   "outputs": [
    {
     "name": "stdout",
     "output_type": "stream",
     "text": [
      "Test of addition: [[2. 3.]] + [[1. 4.]] = [[3. 7.]]\n",
      "Test of subtraction: [[2. 3.]] - [[1. 4.]] = [[ 1. -1.]]\n",
      "Test of power: [[1. 4.]] ** 2 = [[ 1. 16.]]\n",
      "Test of matrix multiplication: [[2. 3.]] @ [[-1. ]\n",
      " [ 1.2]] = [[1.6]]\n"
     ]
    }
   ],
   "source": [
    "\n",
    "# Two tensors holding row vectors.\n",
    "x1 = tensor(np.array([[2.0, 3.0]]))\n",
    "x2 = tensor(np.array([[1.0, 4.0]]))\n",
    "# A tensors holding a column vector.\n",
    "w = tensor(np.array([[-1.0], [1.2]]))\n",
    "\n",
    "# Test the arithmetic operations.\n",
    "test_plus = x1 + x2\n",
    "test_minus = x1 - x2\n",
    "test_power = x2 ** 2\n",
    "test_matmul = x1 @ w\n",
    "\n",
    "print(f'Test of addition: {x1.data} + {x2.data} = {test_plus.data}')\n",
    "print(f'Test of subtraction: {x1.data} - {x2.data} = {test_minus.data}')\n",
    "print(f'Test of power: {x2.data} ** 2 = {test_power.data}')\n",
    "print(f'Test of matrix multiplication: {x1.data} @ {w.data} = {test_matmul.data}')\n",
    "\n",
    "# Check that the results are as expected. Will crash if there is a miscalculation.\n",
    "assert(np.allclose(test_plus.data, np.array([[3.0, 7.0]])))\n",
    "assert(np.allclose(test_minus.data, np.array([[1.0, -1.0]])))\n",
    "assert(np.allclose(test_power.data, np.array([[1.0, 16.0]])))\n",
    "assert(np.allclose(test_matmul.data, np.array([[1.6]])))"
   ]
  },
  {
   "cell_type": "markdown",
   "id": "b204bc62",
   "metadata": {},
   "source": [
    "Create some tensors and make sure that you can compute the arithmetic operations that you used in the linear regression examples above."
   ]
  },
  {
   "cell_type": "markdown",
   "id": "7c645c32",
   "metadata": {},
   "source": [
    "# Tasks 3 and 4"
   ]
  },
  {
   "cell_type": "markdown",
   "id": "cb2ec38e",
   "metadata": {},
   "source": [
    "For each node, the derivative of the correspronding function is calculated and passed backwards, enabling backpropagation."
   ]
  },
  {
   "cell_type": "code",
   "execution_count": 28,
   "id": "9133db2f",
   "metadata": {},
   "outputs": [],
   "source": [
    "class Node:\n",
    "    def __init__(self):\n",
    "        pass\n",
    "    \n",
    "    def backward(self, grad_output):\n",
    "        raise NotImplementedError('Unimplemented')\n",
    "        \n",
    "    def __repr__(self):        \n",
    "        return str(type(self))\n",
    "        \n",
    "\n",
    "class AdditionNode(Node):\n",
    "    def __init__(self, left, right):\n",
    "        self.left = left\n",
    "        self.right = right\n",
    "        \n",
    "    def backward(self, grad_output): \n",
    "        self.left.backward(grad_output)\n",
    "        self.right.backward(grad_output)\n",
    "    \n",
    "class SubtractionNode(Node):\n",
    "    def __init__(self, left, right):\n",
    "        self.left = left\n",
    "        self.right = right\n",
    "        \n",
    "    def backward(self, grad_output):       \n",
    "        self.left.backward(grad_output)\n",
    "        self.right.backward(-grad_output)\n",
    "    \n",
    "class MatrixMultiplicationNode(Node):\n",
    "    def __init__(self, left, right):\n",
    "        self.left = left\n",
    "        self.right = right\n",
    "        \n",
    "    def backward(self, grad_output):\n",
    "        self.left.backward(grad_output @ self.right.data.T)   \n",
    "        self.right.backward(self.left.data.T @ grad_output)\n",
    "    \n",
    "class PowerNode(Node):\n",
    "    def __init__(self, left, right):\n",
    "        self.left = left\n",
    "        self.right = right\n",
    "        \n",
    "    def backward(self, grad_output):        \n",
    "        self.left.backward(grad_output*self.right*(self.left.data**(self.right-1)))\n",
    "\n",
    "class TanhNode(Node):\n",
    "    def __init__(self, x):\n",
    "        self.x = x\n",
    "        \n",
    "    def backward(self, grad_output):\n",
    "        self.x.backward(grad_output*(1-(np.tanh(self.x.data)**2)))\n",
    "\n",
    "class BCELossNode(Node):\n",
    "    def __init__(self, y_prob, y_true):\n",
    "        self.y_prob = y_prob\n",
    "        self.y_true = y_true\n",
    "\n",
    "    def backward(self, grad_output):\n",
    "        derivative = (self.y_prob.data - self.y_true.data)/(self.y_prob.data*(1-self.y_prob.data))\n",
    "        self.y_prob.backward(grad_output*derivative)\n",
    "\n",
    "class SigmoidNode(Node):\n",
    "    def __init__(self, x):\n",
    "        self.x = x\n",
    "\n",
    "    def backward(self, grad_output):\n",
    "        self.x.backward(grad_output*(self.x.data*(1-self.x.data)))"
   ]
  },
  {
   "cell_type": "markdown",
   "id": "9cc1bb77-e869-4e08-8996-3674eed101e6",
   "metadata": {},
   "source": [
    "Sanity check for Task 3."
   ]
  },
  {
   "cell_type": "code",
   "execution_count": 29,
   "id": "f3276aba-4def-421b-b12e-bf0d7120f19e",
   "metadata": {},
   "outputs": [
    {
     "name": "stdout",
     "output_type": "stream",
     "text": [
      "Computational graph top node after x + w1 + w2: <class '__main__.AdditionNode'>\n"
     ]
    }
   ],
   "source": [
    "x = tensor(np.array([[2.0, 3.0]]))\n",
    "w1 = tensor(np.array([[1.0, 4.0]]), requires_grad=True)\n",
    "w2 = tensor(np.array([[3.0, -1.0]]), requires_grad=True)\n",
    "\n",
    "test_graph = x + w1 + w2\n",
    "\n",
    "print('Computational graph top node after x + w1 + w2:', test_graph.grad_fn)\n",
    "\n",
    "assert(isinstance(test_graph.grad_fn, AdditionNode))\n",
    "assert(test_graph.grad_fn.right is w2)\n",
    "assert(test_graph.grad_fn.left.grad_fn.left is x)\n",
    "assert(test_graph.grad_fn.left.grad_fn.right is w1)"
   ]
  },
  {
   "cell_type": "markdown",
   "id": "529a9bfb-ea55-4bce-9356-4956316e1904",
   "metadata": {},
   "source": [
    "Sanity check for Task 4."
   ]
  },
  {
   "cell_type": "code",
   "execution_count": 30,
   "id": "32687661-a67d-4bef-9a90-7dabb93380a2",
   "metadata": {},
   "outputs": [
    {
     "name": "stdout",
     "output_type": "stream",
     "text": [
      "Gradient of loss w.r.t. w =\n",
      " [[5.6]\n",
      " [8.4]]\n"
     ]
    }
   ],
   "source": [
    "x = tensor(np.array([[2.0, 3.0]]))\n",
    "w = tensor(np.array([[-1.0], [1.2]]), requires_grad=True)\n",
    "y = tensor(np.array([[0.2]]))\n",
    "\n",
    "# We could as well write simply loss = (x @ w - y)**2\n",
    "# We break it down into steps here if you need to debug.\n",
    "\n",
    "model_out = x @ w \n",
    "diff = model_out - y\n",
    "loss = diff ** 2\n",
    "\n",
    "loss.backward()\n",
    "\n",
    "print('Gradient of loss w.r.t. w =\\n', w.grad)\n",
    "\n",
    "assert(np.allclose(w.grad, np.array([[5.6], [8.4]])))\n",
    "assert(x.grad is None)\n",
    "assert(y.grad is None)"
   ]
  },
  {
   "cell_type": "markdown",
   "id": "541cc295",
   "metadata": {},
   "source": [
    "An equivalent cell using PyTorch code. Your implementation should give the same result for `w.grad`."
   ]
  },
  {
   "cell_type": "code",
   "execution_count": 31,
   "id": "cabcc94a",
   "metadata": {},
   "outputs": [
    {
     "data": {
      "text/plain": [
       "tensor([[5.6000],\n",
       "        [8.4000]], dtype=torch.float64)"
      ]
     },
     "execution_count": 31,
     "metadata": {},
     "output_type": "execute_result"
    }
   ],
   "source": [
    "pt_x = torch.tensor(np.array([[2.0, 3.0]]))\n",
    "pt_w = torch.tensor(np.array([[-1.0], [1.2]]), requires_grad=True)\n",
    "pt_y = torch.tensor(np.array([[0.2]]))\n",
    "\n",
    "pt_model_out = pt_x @ pt_w \n",
    "pt_model_out.retain_grad() # Keep the gradient of intermediate nodes for debugging.\n",
    "\n",
    "pt_diff = pt_model_out - pt_y\n",
    "pt_diff.retain_grad()\n",
    "\n",
    "pt_loss = pt_diff ** 2\n",
    "pt_loss.retain_grad()\n",
    "\n",
    "pt_loss.backward()\n",
    "pt_w.grad"
   ]
  },
  {
   "cell_type": "markdown",
   "id": "d0b5439b",
   "metadata": {},
   "source": [
    "# Task 5"
   ]
  },
  {
   "cell_type": "code",
   "execution_count": 32,
   "id": "0b03a8c5",
   "metadata": {},
   "outputs": [],
   "source": [
    "class Optimizer:\n",
    "    def __init__(self, params):\n",
    "        self.params = params\n",
    "    \n",
    "    def zero_grad(self):\n",
    "        for param in self.params:\n",
    "            param.grad = np.zeros_like(param.data) \n",
    "        \n",
    "    def step(self):        \n",
    "        raise NotImplementedError('Unimplemented')      \n",
    "\n",
    "class SGD(Optimizer):\n",
    "    def __init__(self, params, lr):\n",
    "        super().__init__(params)\n",
    "        self.lr = lr\n",
    "        \n",
    "    def step(self):\n",
    "        for param in self.params:\n",
    "            if param.grad is not None:\n",
    "                if param.grad.shape[0] != param.data.shape[0]:\n",
    "                    #sum gradients for bias, then apply gradient descent  \n",
    "                    grad_b = np.sum(param.grad, axis=0, keepdims=True) \n",
    "                    param.data -= self.lr * grad_b \n",
    "                else:\n",
    "                    #gradient descent on each weight\n",
    "                    param.data -= self.lr * param.grad\n"
   ]
  },
  {
   "cell_type": "markdown",
   "id": "725b35d7",
   "metadata": {},
   "source": [
    "Testing if the same results are achieved with the code form task 1"
   ]
  },
  {
   "cell_type": "code",
   "execution_count": 33,
   "id": "624d3dc2",
   "metadata": {},
   "outputs": [
    {
     "name": "stdout",
     "output_type": "stream",
     "text": [
      "Epoch 1: MSE = 0.7999661130823178\n",
      "Epoch 2: MSE = 0.017392390107906875\n",
      "Epoch 3: MSE = 0.009377418010839892\n",
      "Epoch 4: MSE = 0.009355326971438456\n",
      "Epoch 5: MSE = 0.009365440968904256\n",
      "Epoch 6: MSE = 0.009366989180952533\n",
      "Epoch 7: MSE = 0.009367207398577986\n",
      "Epoch 8: MSE = 0.009367238983974489\n",
      "Epoch 9: MSE = 0.009367243704122532\n",
      "Epoch 10: MSE = 0.009367244427185763\n"
     ]
    }
   ],
   "source": [
    "np.random.seed(1)\n",
    "\n",
    "w_init = np.random.normal(size=(2, 1))\n",
    "b_init = np.random.normal(size=(1, 1))\n",
    "\n",
    "# We just declare the parameter tensors. Do not use nn.Linear.\n",
    "w = tensor(w_init, requires_grad=True) \n",
    "b = tensor(b_init, requires_grad=True) \n",
    "\n",
    "eta = 1e-2\n",
    "\n",
    "opt = SGD([w, b], lr=eta)   \n",
    "\n",
    "for i in range(10):\n",
    "    \n",
    "    sum_err = 0\n",
    "    \n",
    "    for row in range(X.shape[0]):\n",
    "        x = tensor(X[[row], :]) \n",
    "        y = tensor(Y[[row]]) \n",
    "\n",
    "        # Forward pass.\n",
    "        y_pred = x @ w + b\n",
    "        err = (y - y_pred)**2\n",
    "        #err = err.mean()\n",
    "        \n",
    "        # Backward and update.\n",
    "        opt.zero_grad()\n",
    "        err.backward()\n",
    "        opt.step()\n",
    "        \n",
    "        # For statistics.\n",
    "        sum_err += err.item()\n",
    "\n",
    "    mse = sum_err / X.shape[0]\n",
    "    print(f'Epoch {i+1}: MSE =', mse)"
   ]
  },
  {
   "cell_type": "markdown",
   "id": "28bef171",
   "metadata": {},
   "source": [
    "# Task 6"
   ]
  },
  {
   "cell_type": "code",
   "execution_count": 34,
   "id": "da62980a",
   "metadata": {},
   "outputs": [],
   "source": [
    "from sklearn.preprocessing import scale\n",
    "from sklearn.model_selection import train_test_split\n",
    "\n",
    "# You may need to edit the path, depending on where you put the files.\n",
    "a4data = pd.read_csv('data/raisins.csv')\n",
    "\n",
    "X = scale(a4data.drop(columns='Class'))\n",
    "Y = 1.0*(a4data.Class == 'Besni').to_numpy()\n",
    "\n",
    "np.random.seed(0)\n",
    "shuffle = np.random.permutation(len(Y))\n",
    "X = X[shuffle]\n",
    "Y = Y[shuffle]\n",
    "\n",
    "Xtrain, Xtest, Ytrain, Ytest = train_test_split(X, Y, random_state=0, test_size=0.2)"
   ]
  },
  {
   "cell_type": "markdown",
   "id": "3cb4d28e",
   "metadata": {},
   "source": [
    "Initialize the model structure with one hidden layer using tanh as activation function"
   ]
  },
  {
   "cell_type": "code",
   "execution_count": 35,
   "id": "4dfcfbbd",
   "metadata": {},
   "outputs": [],
   "source": [
    "class RaisinCLF:\n",
    "    def __init__(self, input_dim, hidden_dim, output_dim):\n",
    "        #initialize weights with small random values, and biases with zero. Requires_grad=true to enable backpropagation\n",
    "        self.w1 = tensor(np.random.randn(input_dim, hidden_dim) * 0.01, requires_grad=True)\n",
    "        self.b1 = tensor(np.zeros((1, hidden_dim)), requires_grad=True)\n",
    "        self.w2 = tensor(np.random.randn(hidden_dim, output_dim) * 0.01, requires_grad=True)\n",
    "        self.b2 = tensor(np.zeros((1, output_dim)), requires_grad=True)\n",
    "\n",
    "    def forward(self, x):\n",
    "        \"\"\"forward pass through network\"\"\"\n",
    "        \n",
    "        #computing hidden layer with linear transformation and tanh activation\n",
    "        hidden = tanh(addition(matrix_multiplication(x, self.w1), self.b1))\n",
    "        \n",
    "        #computing output layer with linear transformation\n",
    "        output = addition(matrix_multiplication(hidden, self.w2), self.b2)\n",
    "        return output\n",
    "        \n",
    "    def get_params(self):\n",
    "        return [self.w1, self.b1, self.w2, self.b2]"
   ]
  },
  {
   "cell_type": "code",
   "execution_count": 36,
   "id": "890de9e0",
   "metadata": {},
   "outputs": [],
   "source": [
    "\n",
    "from sklearn.model_selection import train_test_split\n",
    "from sklearn.metrics import accuracy_score\n",
    "\n",
    "def train_classifier(model, X, Y):\n",
    "    # hyperparameters\n",
    "    lr = 1e-6 \n",
    "    n_epochs = 100  \n",
    "    val_size = 0.2 \n",
    "\n",
    "    Xtrain, Xval, Ytrain, Yval = train_test_split(X, Y, test_size=val_size, random_state=0)\n",
    "\n",
    "    optimizer = SGD(model.get_params(), lr=lr)\n",
    "\n",
    "    #stores training and validation accuracy\n",
    "    history = []\n",
    "\n",
    "    #convert data to tensor\n",
    "    Xtrain_t = tensor(Xtrain)\n",
    "    Ytrain_t = tensor(Ytrain)\n",
    "\n",
    "    max_acc = 0\n",
    "\n",
    "    for epoch in range(n_epochs):\n",
    "\n",
    "        loss_sum = 0\n",
    "\n",
    "        outputs = model.forward(Xtrain_t)\n",
    "       \n",
    "        loss = BCELoss(outputs, Ytrain_t)\n",
    "\n",
    "        #initilize gradient to 0\n",
    "        optimizer.zero_grad()\n",
    "\n",
    "        #computing gradient\n",
    "        loss.backward()\n",
    "\n",
    "        #apply gradient descent \n",
    "        optimizer.step()\n",
    "\n",
    "        #compute average loss\n",
    "        loss_sum += loss.data.mean()\n",
    "\n",
    "        train_pred = predict(model, Xtrain).flatten()\n",
    "        val_pred = predict(model, Xval).flatten()\n",
    "     \n",
    "        train_acc = accuracy_score(Ytrain.flatten(), train_pred)\n",
    "        val_acc = accuracy_score(Yval.flatten(), val_pred)\n",
    "\n",
    "        max_acc = max(max_acc, val_acc)\n",
    "\n",
    "        history.append((train_acc, val_acc))\n",
    "\n",
    "        if (epoch+1) % 5 == 0:\n",
    "            print(f'Epoch {epoch+1}: loss = {loss_sum:.4f}, train acc = {train_acc:.4f}, val acc = {val_acc:.4f}')\n",
    "    \n",
    "    print(f'Max validation accuracy achieved: {max_acc:.4f}')\n",
    "    return history\n",
    "\n",
    "\n",
    "def predict(model, x):\n",
    "    Xt = tensor(x) \n",
    "    scores = sigmoid(model.forward(Xt).data)\n",
    "    y_guess = (scores.data > 0.5).astype(int) \n",
    "    return y_guess\n"
   ]
  },
  {
   "cell_type": "code",
   "execution_count": 37,
   "id": "f7060089",
   "metadata": {},
   "outputs": [
    {
     "name": "stdout",
     "output_type": "stream",
     "text": [
      "Epoch 5: loss = 0.6921, train acc = 0.8594, val acc = 0.8194\n",
      "Epoch 10: loss = 0.6921, train acc = 0.8594, val acc = 0.8194\n",
      "Epoch 15: loss = 0.6921, train acc = 0.8576, val acc = 0.8125\n",
      "Epoch 20: loss = 0.6921, train acc = 0.8576, val acc = 0.8194\n",
      "Epoch 25: loss = 0.6921, train acc = 0.8594, val acc = 0.8194\n",
      "Epoch 30: loss = 0.6921, train acc = 0.8594, val acc = 0.8194\n",
      "Epoch 35: loss = 0.6921, train acc = 0.8594, val acc = 0.8194\n",
      "Epoch 40: loss = 0.6921, train acc = 0.8594, val acc = 0.8194\n",
      "Epoch 45: loss = 0.6921, train acc = 0.8576, val acc = 0.8194\n",
      "Epoch 50: loss = 0.6921, train acc = 0.8576, val acc = 0.8194\n",
      "Epoch 55: loss = 0.6921, train acc = 0.8576, val acc = 0.8194\n",
      "Epoch 60: loss = 0.6921, train acc = 0.8576, val acc = 0.8125\n",
      "Epoch 65: loss = 0.6921, train acc = 0.8576, val acc = 0.8125\n",
      "Epoch 70: loss = 0.6921, train acc = 0.8576, val acc = 0.8125\n",
      "Epoch 75: loss = 0.6921, train acc = 0.8559, val acc = 0.8125\n",
      "Epoch 80: loss = 0.6921, train acc = 0.8576, val acc = 0.8125\n",
      "Epoch 85: loss = 0.6921, train acc = 0.8576, val acc = 0.8194\n",
      "Epoch 90: loss = 0.6921, train acc = 0.8594, val acc = 0.8194\n",
      "Epoch 95: loss = 0.6921, train acc = 0.8611, val acc = 0.8194\n",
      "Epoch 100: loss = 0.6921, train acc = 0.8611, val acc = 0.8264\n",
      "Max validation accuracy achieved: 0.8264\n",
      "Test accuracy: 0.8333\n"
     ]
    }
   ],
   "source": [
    "\n",
    "input_dim = 7\n",
    "hidden_dim = 128\n",
    "output_dim = 1\n",
    "\n",
    "model = RaisinCLF(input_dim=input_dim, hidden_dim=hidden_dim, output_dim=output_dim)\n",
    "\n",
    "history = train_classifier(model, Xtrain, Ytrain.reshape(-1, 1))\n",
    "\n",
    "y_guess = predict(model, Xtest)\n",
    "\n",
    "accuracy = accuracy_score(Ytest, y_guess)\n",
    "print(f'Test accuracy: {accuracy:.4f}')"
   ]
  }
 ],
 "metadata": {
  "kernelspec": {
   "display_name": "new_venv",
   "language": "python",
   "name": "python3"
  },
  "language_info": {
   "codemirror_mode": {
    "name": "ipython",
    "version": 3
   },
   "file_extension": ".py",
   "mimetype": "text/x-python",
   "name": "python",
   "nbconvert_exporter": "python",
   "pygments_lexer": "ipython3",
   "version": "3.9.21"
  }
 },
 "nbformat": 4,
 "nbformat_minor": 5
}

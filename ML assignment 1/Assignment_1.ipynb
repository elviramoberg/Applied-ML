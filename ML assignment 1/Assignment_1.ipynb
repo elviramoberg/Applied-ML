{
 "cells": [
  {
   "cell_type": "markdown",
   "metadata": {},
   "source": [
    "**Group members:** Tim Bakkenes, Agnes Magnusson, Elvira Moberg"
   ]
  },
  {
   "cell_type": "markdown",
   "metadata": {},
   "source": [
    "# Task 1: A classification example: fetal heart condition diagnosis\n",
    " This is a classification task based on a dataset of fetal heart diagnosis. The task is to predict a diagnosis type using different classifier models."
   ]
  },
  {
   "cell_type": "markdown",
   "metadata": {},
   "source": [
    "## Step 1: Reading the data\n",
    "The first part of task one is to read the data from the file and split it into a train set and a test set."
   ]
  },
  {
   "cell_type": "code",
   "execution_count": 1,
   "metadata": {},
   "outputs": [],
   "source": [
    "import pandas as pd\n",
    "from sklearn.model_selection import train_test_split\n",
    "  \n",
    "# First the csv file is read using pandas\n",
    "data = pd.read_csv(\"CTG.csv\", skiprows=1)\n",
    "\n",
    "# Select the relevant numerical columns, these are the colums we want.\n",
    "selected_cols = ['LB', 'AC', 'FM', 'UC', 'DL', 'DS', 'DP', 'ASTV', 'MSTV', 'ALTV',\n",
    "                 'MLTV', 'Width', 'Min', 'Max', 'Nmax', 'Nzeros', 'Mode', 'Mean',\n",
    "                 'Median', 'Variance', 'Tendency', 'NSP']\n",
    "\n",
    "# dropna() gets rid of all missing values.\n",
    "data = data[selected_cols].dropna()\n",
    "\n",
    "# The dataset is then shuffled so the order of the data does not matter.\n",
    "data_shuffled = data.sample(frac=1.0, random_state=0)\n",
    "\n",
    "# Next step is to separate the X and the Y for this dataset.\n",
    "X = data_shuffled.drop('NSP', axis=1)\n",
    "\n",
    "# Map the diagnosis code to a human-readable label.\n",
    "def to_label(y):\n",
    "    return [None, 'normal', 'suspect', 'pathologic'][(int(y))]\n",
    "\n",
    "Y = data_shuffled['NSP'].apply(to_label)\n",
    "\n",
    "# The data is partitioned into a traing and test set.\n",
    "Xtrain, Xtest, Ytrain, Ytest = train_test_split(X, Y, test_size=0.2, random_state=0)"
   ]
  },
  {
   "cell_type": "code",
   "execution_count": 2,
   "metadata": {},
   "outputs": [
    {
     "data": {
      "text/html": [
       "<div>\n",
       "<style scoped>\n",
       "    .dataframe tbody tr th:only-of-type {\n",
       "        vertical-align: middle;\n",
       "    }\n",
       "\n",
       "    .dataframe tbody tr th {\n",
       "        vertical-align: top;\n",
       "    }\n",
       "\n",
       "    .dataframe thead th {\n",
       "        text-align: right;\n",
       "    }\n",
       "</style>\n",
       "<table border=\"1\" class=\"dataframe\">\n",
       "  <thead>\n",
       "    <tr style=\"text-align: right;\">\n",
       "      <th></th>\n",
       "      <th>LB</th>\n",
       "      <th>AC</th>\n",
       "      <th>FM</th>\n",
       "      <th>UC</th>\n",
       "      <th>DL</th>\n",
       "      <th>DS</th>\n",
       "      <th>DP</th>\n",
       "      <th>ASTV</th>\n",
       "      <th>MSTV</th>\n",
       "      <th>ALTV</th>\n",
       "      <th>...</th>\n",
       "      <th>Width</th>\n",
       "      <th>Min</th>\n",
       "      <th>Max</th>\n",
       "      <th>Nmax</th>\n",
       "      <th>Nzeros</th>\n",
       "      <th>Mode</th>\n",
       "      <th>Mean</th>\n",
       "      <th>Median</th>\n",
       "      <th>Variance</th>\n",
       "      <th>Tendency</th>\n",
       "    </tr>\n",
       "  </thead>\n",
       "  <tbody>\n",
       "    <tr>\n",
       "      <th>658</th>\n",
       "      <td>130.0</td>\n",
       "      <td>1.0</td>\n",
       "      <td>0.0</td>\n",
       "      <td>3.0</td>\n",
       "      <td>0.0</td>\n",
       "      <td>0.0</td>\n",
       "      <td>0.0</td>\n",
       "      <td>24.0</td>\n",
       "      <td>1.2</td>\n",
       "      <td>12.0</td>\n",
       "      <td>...</td>\n",
       "      <td>35.0</td>\n",
       "      <td>120.0</td>\n",
       "      <td>155.0</td>\n",
       "      <td>1.0</td>\n",
       "      <td>0.0</td>\n",
       "      <td>134.0</td>\n",
       "      <td>133.0</td>\n",
       "      <td>135.0</td>\n",
       "      <td>1.0</td>\n",
       "      <td>0.0</td>\n",
       "    </tr>\n",
       "    <tr>\n",
       "      <th>1734</th>\n",
       "      <td>134.0</td>\n",
       "      <td>9.0</td>\n",
       "      <td>1.0</td>\n",
       "      <td>8.0</td>\n",
       "      <td>5.0</td>\n",
       "      <td>0.0</td>\n",
       "      <td>0.0</td>\n",
       "      <td>59.0</td>\n",
       "      <td>1.2</td>\n",
       "      <td>0.0</td>\n",
       "      <td>...</td>\n",
       "      <td>109.0</td>\n",
       "      <td>80.0</td>\n",
       "      <td>189.0</td>\n",
       "      <td>6.0</td>\n",
       "      <td>0.0</td>\n",
       "      <td>150.0</td>\n",
       "      <td>146.0</td>\n",
       "      <td>150.0</td>\n",
       "      <td>33.0</td>\n",
       "      <td>0.0</td>\n",
       "    </tr>\n",
       "    <tr>\n",
       "      <th>1226</th>\n",
       "      <td>125.0</td>\n",
       "      <td>1.0</td>\n",
       "      <td>0.0</td>\n",
       "      <td>4.0</td>\n",
       "      <td>0.0</td>\n",
       "      <td>0.0</td>\n",
       "      <td>0.0</td>\n",
       "      <td>43.0</td>\n",
       "      <td>0.7</td>\n",
       "      <td>31.0</td>\n",
       "      <td>...</td>\n",
       "      <td>21.0</td>\n",
       "      <td>120.0</td>\n",
       "      <td>141.0</td>\n",
       "      <td>0.0</td>\n",
       "      <td>0.0</td>\n",
       "      <td>131.0</td>\n",
       "      <td>130.0</td>\n",
       "      <td>132.0</td>\n",
       "      <td>1.0</td>\n",
       "      <td>0.0</td>\n",
       "    </tr>\n",
       "    <tr>\n",
       "      <th>1808</th>\n",
       "      <td>143.0</td>\n",
       "      <td>0.0</td>\n",
       "      <td>0.0</td>\n",
       "      <td>1.0</td>\n",
       "      <td>0.0</td>\n",
       "      <td>0.0</td>\n",
       "      <td>0.0</td>\n",
       "      <td>69.0</td>\n",
       "      <td>0.3</td>\n",
       "      <td>6.0</td>\n",
       "      <td>...</td>\n",
       "      <td>27.0</td>\n",
       "      <td>132.0</td>\n",
       "      <td>159.0</td>\n",
       "      <td>1.0</td>\n",
       "      <td>0.0</td>\n",
       "      <td>145.0</td>\n",
       "      <td>144.0</td>\n",
       "      <td>146.0</td>\n",
       "      <td>1.0</td>\n",
       "      <td>0.0</td>\n",
       "    </tr>\n",
       "    <tr>\n",
       "      <th>825</th>\n",
       "      <td>152.0</td>\n",
       "      <td>0.0</td>\n",
       "      <td>0.0</td>\n",
       "      <td>4.0</td>\n",
       "      <td>0.0</td>\n",
       "      <td>0.0</td>\n",
       "      <td>0.0</td>\n",
       "      <td>62.0</td>\n",
       "      <td>0.4</td>\n",
       "      <td>59.0</td>\n",
       "      <td>...</td>\n",
       "      <td>25.0</td>\n",
       "      <td>136.0</td>\n",
       "      <td>161.0</td>\n",
       "      <td>0.0</td>\n",
       "      <td>0.0</td>\n",
       "      <td>159.0</td>\n",
       "      <td>156.0</td>\n",
       "      <td>158.0</td>\n",
       "      <td>1.0</td>\n",
       "      <td>1.0</td>\n",
       "    </tr>\n",
       "  </tbody>\n",
       "</table>\n",
       "<p>5 rows × 21 columns</p>\n",
       "</div>"
      ],
      "text/plain": [
       "         LB   AC   FM   UC   DL   DS   DP  ASTV  MSTV  ALTV  ...  Width  \\\n",
       "658   130.0  1.0  0.0  3.0  0.0  0.0  0.0  24.0   1.2  12.0  ...   35.0   \n",
       "1734  134.0  9.0  1.0  8.0  5.0  0.0  0.0  59.0   1.2   0.0  ...  109.0   \n",
       "1226  125.0  1.0  0.0  4.0  0.0  0.0  0.0  43.0   0.7  31.0  ...   21.0   \n",
       "1808  143.0  0.0  0.0  1.0  0.0  0.0  0.0  69.0   0.3   6.0  ...   27.0   \n",
       "825   152.0  0.0  0.0  4.0  0.0  0.0  0.0  62.0   0.4  59.0  ...   25.0   \n",
       "\n",
       "        Min    Max  Nmax  Nzeros   Mode   Mean  Median  Variance  Tendency  \n",
       "658   120.0  155.0   1.0     0.0  134.0  133.0   135.0       1.0       0.0  \n",
       "1734   80.0  189.0   6.0     0.0  150.0  146.0   150.0      33.0       0.0  \n",
       "1226  120.0  141.0   0.0     0.0  131.0  130.0   132.0       1.0       0.0  \n",
       "1808  132.0  159.0   1.0     0.0  145.0  144.0   146.0       1.0       0.0  \n",
       "825   136.0  161.0   0.0     0.0  159.0  156.0   158.0       1.0       1.0  \n",
       "\n",
       "[5 rows x 21 columns]"
      ]
     },
     "execution_count": 2,
     "metadata": {},
     "output_type": "execute_result"
    }
   ],
   "source": [
    "# Used to look at first few rows\n",
    "X.head()"
   ]
  },
  {
   "cell_type": "markdown",
   "metadata": {},
   "source": [
    "## Step 2: Training the baseline classifier"
   ]
  },
  {
   "cell_type": "markdown",
   "metadata": {},
   "source": [
    "### Dummy Classifier\n",
    "\n",
    "The DummyClassifier below is very simple. It works by simply returning the most common label in the training set. The purpose of having a dummy classifier is to use it as a baseline to compare the other models we want to use to make predictions for example.\n",
    "\n",
    "In this assignment, we are asked to use cross-validation to get an idea of how well our models perform. We must also find a way to aggregate these scores so that you get a single score that can then be used to compare different classifiers. Two ways of doing this are shown below, using the mean and using the median."
   ]
  },
  {
   "cell_type": "code",
   "execution_count": 3,
   "metadata": {},
   "outputs": [
    {
     "name": "stdout",
     "output_type": "stream",
     "text": [
      "Median: 0.7794117647058824\n",
      "Mean: 0.7805882352941176\n"
     ]
    }
   ],
   "source": [
    "import numpy as np\n",
    "from sklearn.dummy import DummyClassifier\n",
    "from sklearn.model_selection import cross_val_score\n",
    "\n",
    "clf = DummyClassifier(strategy='most_frequent')\n",
    "cvr = cross_val_score(clf, Xtrain, Ytrain)\n",
    "\n",
    "# Calculate median\n",
    "median = np.median(cvr)\n",
    "print(f\"Median: {median}\")\n",
    "\n",
    "# Calculate average\n",
    "mean = np.mean(cvr)\n",
    "print(f\"Mean: {mean}\")"
   ]
  },
  {
   "cell_type": "markdown",
   "metadata": {},
   "source": [
    "## Step 3: Trying out some different classifiers\n",
    "For this part of task 1 we tried out a few different classifiers and tried tuning the hyperparameters to improve the performance."
   ]
  },
  {
   "cell_type": "code",
   "execution_count": 4,
   "metadata": {},
   "outputs": [],
   "source": [
    "# Tree-based classifiers\n",
    "from sklearn.tree import DecisionTreeClassifier\n",
    "from sklearn.ensemble import RandomForestClassifier\n",
    "from sklearn.ensemble import GradientBoostingClassifier\n",
    "\n",
    "# Linear classifiers\n",
    "from sklearn.linear_model import Perceptron\n",
    "from sklearn.linear_model import LogisticRegression\n",
    "from sklearn.svm import LinearSVC\n",
    "\n",
    "# Neural network classifier\n",
    "from sklearn.neural_network import MLPClassifier"
   ]
  },
  {
   "cell_type": "markdown",
   "metadata": {},
   "source": [
    "Below are all of the models tried in one cell. The random state variable was set to 42 and makes it so every run is reproducible. The hyperparameters that was experimented with were the number of estimators in the ensemble of trees like random forest and the gradient boosting classifier and the regulariation for the linear perceptron and logistic regression."
   ]
  },
  {
   "cell_type": "code",
   "execution_count": 5,
   "metadata": {},
   "outputs": [
    {
     "name": "stdout",
     "output_type": "stream",
     "text": [
      "Decision tree median accuracy: 0.9117647058823529\n",
      "Random Forest median accuracy: 0.9352941176470588\n",
      "Gradient Boosting median accuracy: 0.9441176470588235\n",
      "Perceptron median accuracy: 0.8323529411764706\n"
     ]
    },
    {
     "name": "stderr",
     "output_type": "stream",
     "text": [
      "/Users/elviramoberg/IdeaProjects/ML assignment 1/ml-env/lib/python3.10/site-packages/sklearn/linear_model/_logistic.py:465: ConvergenceWarning: lbfgs failed to converge (status=1):\n",
      "STOP: TOTAL NO. OF ITERATIONS REACHED LIMIT.\n",
      "\n",
      "Increase the number of iterations (max_iter) or scale the data as shown in:\n",
      "    https://scikit-learn.org/stable/modules/preprocessing.html\n",
      "Please also refer to the documentation for alternative solver options:\n",
      "    https://scikit-learn.org/stable/modules/linear_model.html#logistic-regression\n",
      "  n_iter_i = _check_optimize_result(\n",
      "/Users/elviramoberg/IdeaProjects/ML assignment 1/ml-env/lib/python3.10/site-packages/sklearn/linear_model/_logistic.py:465: ConvergenceWarning: lbfgs failed to converge (status=1):\n",
      "STOP: TOTAL NO. OF ITERATIONS REACHED LIMIT.\n",
      "\n",
      "Increase the number of iterations (max_iter) or scale the data as shown in:\n",
      "    https://scikit-learn.org/stable/modules/preprocessing.html\n",
      "Please also refer to the documentation for alternative solver options:\n",
      "    https://scikit-learn.org/stable/modules/linear_model.html#logistic-regression\n",
      "  n_iter_i = _check_optimize_result(\n",
      "/Users/elviramoberg/IdeaProjects/ML assignment 1/ml-env/lib/python3.10/site-packages/sklearn/linear_model/_logistic.py:465: ConvergenceWarning: lbfgs failed to converge (status=1):\n",
      "STOP: TOTAL NO. OF ITERATIONS REACHED LIMIT.\n",
      "\n",
      "Increase the number of iterations (max_iter) or scale the data as shown in:\n",
      "    https://scikit-learn.org/stable/modules/preprocessing.html\n",
      "Please also refer to the documentation for alternative solver options:\n",
      "    https://scikit-learn.org/stable/modules/linear_model.html#logistic-regression\n",
      "  n_iter_i = _check_optimize_result(\n",
      "/Users/elviramoberg/IdeaProjects/ML assignment 1/ml-env/lib/python3.10/site-packages/sklearn/linear_model/_logistic.py:465: ConvergenceWarning: lbfgs failed to converge (status=1):\n",
      "STOP: TOTAL NO. OF ITERATIONS REACHED LIMIT.\n",
      "\n",
      "Increase the number of iterations (max_iter) or scale the data as shown in:\n",
      "    https://scikit-learn.org/stable/modules/preprocessing.html\n",
      "Please also refer to the documentation for alternative solver options:\n",
      "    https://scikit-learn.org/stable/modules/linear_model.html#logistic-regression\n",
      "  n_iter_i = _check_optimize_result(\n",
      "/Users/elviramoberg/IdeaProjects/ML assignment 1/ml-env/lib/python3.10/site-packages/sklearn/linear_model/_logistic.py:465: ConvergenceWarning: lbfgs failed to converge (status=1):\n",
      "STOP: TOTAL NO. OF ITERATIONS REACHED LIMIT.\n",
      "\n",
      "Increase the number of iterations (max_iter) or scale the data as shown in:\n",
      "    https://scikit-learn.org/stable/modules/preprocessing.html\n",
      "Please also refer to the documentation for alternative solver options:\n",
      "    https://scikit-learn.org/stable/modules/linear_model.html#logistic-regression\n",
      "  n_iter_i = _check_optimize_result(\n"
     ]
    },
    {
     "name": "stdout",
     "output_type": "stream",
     "text": [
      "Logistic Regression median accuracy: 0.8941176470588236\n",
      "LinearSVC median accuracy: 0.8941176470588236\n",
      "MLP Classifier meadian accuracy: 0.9\n"
     ]
    }
   ],
   "source": [
    "clf_decision_tree = DecisionTreeClassifier(random_state=42)\n",
    "cvr_decision_tree = cross_val_score(clf_decision_tree, Xtrain, Ytrain)\n",
    "print(f\"Decision tree median accuracy: {np.median(cvr_decision_tree)}\")\n",
    "\n",
    "clf_random_forest = RandomForestClassifier(random_state=42, n_estimators=100)\n",
    "cvr_random_forest = cross_val_score(clf_random_forest, Xtrain, Ytrain)\n",
    "print(f\"Random Forest median accuracy: {np.median(cvr_random_forest)}\")\n",
    "\n",
    "clf_gradient_boost = GradientBoostingClassifier(random_state=42, learning_rate=0.1, n_estimators=100, max_depth=3)\n",
    "cvr_gradient_boost = cross_val_score(clf_gradient_boost, Xtrain, Ytrain)\n",
    "print(f\"Gradient Boosting median accuracy: {np.median(cvr_gradient_boost)}\")\n",
    "\n",
    "clf_perceptron = Perceptron(random_state=42, penalty='l2', alpha=0.00001)\n",
    "cvr_perceptron = cross_val_score(clf_perceptron, Xtrain, Ytrain)\n",
    "print(f\"Perceptron median accuracy: {np.median(cvr_perceptron)}\")\n",
    "\n",
    "clf_logistic = LogisticRegression(random_state=42, penalty=\"l2\", max_iter=10000)\n",
    "cvr_logistic = cross_val_score(clf_logistic, Xtrain, Ytrain)\n",
    "print(f\"Logistic Regression median accuracy: {np.median(cvr_logistic)}\")\n",
    "\n",
    "clf_linear_svc = LinearSVC(random_state=42)\n",
    "cvr_linear_svc = cross_val_score(clf_linear_svc, Xtrain, Ytrain)\n",
    "print(f\"LinearSVC median accuracy: {np.median(cvr_linear_svc)}\")\n",
    "\n",
    "clf_mlp = MLPClassifier(random_state=42)\n",
    "cvr_mlp = cross_val_score(clf_mlp, Xtrain, Ytrain)\n",
    "print(f\"MLP Classifier meadian accuracy: {np.median(cvr_mlp)}\")"
   ]
  },
  {
   "cell_type": "markdown",
   "metadata": {},
   "source": [
    "## Step 4. Final evaluation\n",
    "It can be seen in the output from the previous cell that the gradient boosting algorithm seems to have the best median performance. It was therefore the model that was trained on the whole training set and then evaluated on the test set."
   ]
  },
  {
   "cell_type": "markdown",
   "metadata": {},
   "source": [
    "#### Gradient Boosting Algorithms\n",
    "\n",
    "In short, gradient bossting algorithms are ensembles, normally of decision trees. By combining multiple decision trees the idea is that it will create a more powerful predictive model.\n",
    "\n",
    "Boosting is a technique where every new model will try and correct the errors of the previous model. So first one model will try and predict some target variable, then the error or residuals which is the difference between the predictions and the actual values is calculated. The next tree will then be trained on these residuals or errors and try to fix the first models errors. And these predictions are then combined together to make a final prediction."
   ]
  },
  {
   "cell_type": "code",
   "execution_count": 6,
   "metadata": {},
   "outputs": [
    {
     "name": "stdout",
     "output_type": "stream",
     "text": [
      "0.9295774647887324\n"
     ]
    }
   ],
   "source": [
    "from sklearn.metrics import accuracy_score\n",
    "\n",
    "# Fit the gradient boosting algorithm to the training data and test the model on the test set\n",
    "clf_gradient_boost.fit(Xtrain, Ytrain)\n",
    "Yguess = clf_gradient_boost.predict(Xtest)\n",
    "print(accuracy_score(Yguess, Ytest))"
   ]
  },
  {
   "cell_type": "markdown",
   "metadata": {},
   "source": [
    "# Task 2: Decision trees for classification\n",
    "\n",
    "In this task code is downloaded for a decision tree classifier and the hyperparamter max_depth is tuned to get the best cross-validation performance. Then the model is evaluated on the test set using the chosen max_depth."
   ]
  },
  {
   "cell_type": "code",
   "execution_count": 7,
   "metadata": {},
   "outputs": [],
   "source": [
    "import pandas as pd\n",
    "import numpy as np\n",
    "from matplotlib import pyplot as plt\n",
    "from sklearn.model_selection import cross_val_score"
   ]
  },
  {
   "cell_type": "markdown",
   "metadata": {},
   "source": [
    "### The Decision Tree class and subclasses"
   ]
  },
  {
   "cell_type": "code",
   "execution_count": 8,
   "metadata": {},
   "outputs": [],
   "source": [
    "class DecisionTreeLeaf:\n",
    "\n",
    "    def __init__(self, value):\n",
    "        self.value = value\n",
    "\n",
    "    # This method computes the prediction for this leaf node. This will just return a constant value.\n",
    "    def predict(self, x):\n",
    "        return self.value\n",
    "\n",
    "    # Utility function to draw a tree visually using graphviz.\n",
    "    def draw_tree(self, graph, node_counter, names):\n",
    "        node_id = str(node_counter)\n",
    "        val_str = f'{self.value:.4g}' if isinstance(self.value, float) else str(self.value)\n",
    "        graph.node(node_id, val_str, style='filled')\n",
    "        return node_counter+1, node_id\n",
    "        \n",
    "    def __eq__(self, other):\n",
    "        if isinstance(other, DecisionTreeLeaf):\n",
    "            return self.value == other.value\n",
    "        else:\n",
    "            return False\n",
    "        \n",
    "    def to_str(self, indent, lines, names):\n",
    "        val_str = f'{self.value:.4g}' if isinstance(self.value, float) else str(self.value)\n",
    "        lines.append(' '*indent + val_str)\n",
    "\n",
    "class DecisionTreeBranch:\n",
    "\n",
    "    def __init__(self, feature, threshold, low_subtree, high_subtree):\n",
    "        self.feature = feature\n",
    "        self.threshold = threshold\n",
    "        self.low_subtree = low_subtree\n",
    "        self.high_subtree = high_subtree\n",
    "\n",
    "    # For a branch node, we compute the prediction by first considering the feature, and then \n",
    "    # calling the upper or lower subtree, depending on whether the feature is or isn't greater\n",
    "    # than the threshold.\n",
    "    def predict(self, x):\n",
    "        if x[self.feature] <= self.threshold:\n",
    "            return self.low_subtree.predict(x)\n",
    "        else:\n",
    "            return self.high_subtree.predict(x)\n",
    "\n",
    "    # Utility function to draw a tree visually using graphviz.\n",
    "    def draw_tree(self, graph, node_counter, names):\n",
    "        node_counter, low_id = self.low_subtree.draw_tree(graph, node_counter, names)\n",
    "        node_counter, high_id = self.high_subtree.draw_tree(graph, node_counter, names)\n",
    "        node_id = str(node_counter)\n",
    "        fname = f'F{self.feature}' if names is None else names[self.feature]\n",
    "        lbl = f'{fname} > {self.threshold:.4g}?'\n",
    "        graph.node(node_id, lbl, shape='box', fillcolor='yellow', style='filled, rounded')\n",
    "        graph.edge(node_id, low_id, 'False')\n",
    "        graph.edge(node_id, high_id, 'True')\n",
    "        return node_counter+1, node_id\n",
    "        \n",
    "    def to_str(self, indent, lines, names):\n",
    "        pad = ' '*indent\n",
    "        fname = f'F{self.feature}' if names is None else names[self.feature]\n",
    "        lines.append(pad + f'{fname} <= {self.threshold:.3g}?')\n",
    "        lines.append(pad + '  True =>')\n",
    "        self.low_subtree.to_str(indent+4, lines, names)\n",
    "        lines.append(pad + '  False =>')\n",
    "        self.high_subtree.to_str(indent+4, lines, names)\n",
    "\n",
    "\n",
    "from graphviz import Digraph\n",
    "from sklearn.base import BaseEstimator, ClassifierMixin\n",
    "from abc import ABC, abstractmethod\n",
    "\n",
    "class DecisionTree(ABC, BaseEstimator):\n",
    "\n",
    "    def __init__(self, max_depth):\n",
    "        super().__init__()\n",
    "        self.max_depth = max_depth\n",
    "        \n",
    "    # As usual in scikit-learn, the training method is called *fit*. We first process the dataset so that\n",
    "    # we're sure that it's represented as a NumPy matrix. Then we call the recursive tree-building method\n",
    "    # called make_tree (see below).\n",
    "    def fit(self, X, Y):\n",
    "        if isinstance(X, pd.DataFrame):\n",
    "            self.names = X.columns\n",
    "            X = X.to_numpy()\n",
    "        elif isinstance(X, list):\n",
    "            self.names = None\n",
    "            X = np.array(X)\n",
    "        else:\n",
    "            self.names = None\n",
    "        Y = np.array(Y)        \n",
    "        self.root = self.make_tree(X, Y, self.max_depth)\n",
    "        \n",
    "    def draw_tree(self):\n",
    "        graph = Digraph()\n",
    "        self.root.draw_tree(graph, 0, self.names)\n",
    "        return graph\n",
    "    \n",
    "    # By scikit-learn convention, the method *predict* computes the classification or regression output\n",
    "    # for a set of instances.\n",
    "    # To implement it, we call a separate method that carries out the prediction for one instance.\n",
    "    def predict(self, X):\n",
    "        if isinstance(X, pd.DataFrame):\n",
    "            X = X.to_numpy()\n",
    "        return [self.predict_one(x) for x in X]\n",
    "\n",
    "    # Predicting the output for one instance.\n",
    "    def predict_one(self, x):\n",
    "        return self.root.predict(x)        \n",
    "\n",
    "    # This is the recursive training \n",
    "    def make_tree(self, X, Y, max_depth):\n",
    "\n",
    "        # We start by computing the default value that will be used if we'll return a leaf node.\n",
    "        # For classifiers, this will be the most common value in Y.\n",
    "        default_value = self.get_default_value(Y)\n",
    "\n",
    "        # First the two base cases in the recursion: is the training set completely\n",
    "        # homogeneous, or have we reached the maximum depth? Then we need to return a leaf.\n",
    "\n",
    "        # If we have reached the maximum depth, return a leaf with the majority value.\n",
    "        if max_depth == 0:\n",
    "            return DecisionTreeLeaf(default_value)\n",
    "\n",
    "        # If all the instances in the remaining training set have the same output value,\n",
    "        # return a leaf with this value.\n",
    "        if self.is_homogeneous(Y):\n",
    "            return DecisionTreeLeaf(default_value)\n",
    "\n",
    "        # Select the \"most useful\" feature and split threshold. To rank the \"usefulness\" of features,\n",
    "        # we use one of the classification or regression criteria.\n",
    "        # For each feature, we call best_split (defined in a subclass). We then maximize over the features.\n",
    "        n_features = X.shape[1]\n",
    "        \n",
    "        _, best_feature, best_threshold = \\\n",
    "            max(self.best_split(X, Y, feature) \n",
    "                for feature in range(n_features))\n",
    "        \n",
    "        if best_feature is None:\n",
    "            return DecisionTreeLeaf(default_value)\n",
    "\n",
    "        # Split the training set into subgroups, based on whether the selected feature is greater than\n",
    "        # the threshold or not\n",
    "        X_low, X_high, Y_low, Y_high = \\\n",
    "            self.split_by_feature(X, Y, best_feature, best_threshold)\n",
    "\n",
    "        # Build the subtrees using a recursive call. Each subtree is associated\n",
    "        # with a value of the feature.\n",
    "        low_subtree = self.make_tree(X_low, Y_low, max_depth-1)\n",
    "        high_subtree = self.make_tree(X_high, Y_high, max_depth-1)\n",
    "\n",
    "        if low_subtree == high_subtree:\n",
    "            return low_subtree\n",
    "\n",
    "        # Return a decision tree branch containing the result.\n",
    "        return DecisionTreeBranch(best_feature, best_threshold, low_subtree, high_subtree)\n",
    "    \n",
    "    # Utility method that splits the data into the \"upper\" and \"lower\" part, based on a feature\n",
    "    # and a threshold.\n",
    "    def split_by_feature(self, X, Y, feature, threshold):\n",
    "        low = X[:,feature] <= threshold\n",
    "        high = ~low\n",
    "        return X[low], X[high], Y[low], Y[high]\n",
    "    \n",
    "    def __str__(self):\n",
    "        lines = []\n",
    "        self.root.to_str(0, lines, self.names)\n",
    "        return '\\n'.join(lines)\n",
    "    \n",
    "    # The following three methods need to be implemented by the classification and regression subclasses.\n",
    "    \n",
    "    @abstractmethod\n",
    "    def get_default_value(self, Y):\n",
    "        pass\n",
    "\n",
    "    @abstractmethod\n",
    "    def is_homogeneous(self, Y):\n",
    "        pass\n",
    "\n",
    "    @abstractmethod\n",
    "    def best_split(self, X, Y, feature):\n",
    "        pass\n",
    "        "
   ]
  },
  {
   "cell_type": "markdown",
   "metadata": {},
   "source": [
    "### Some Functions from the assignment used"
   ]
  },
  {
   "cell_type": "code",
   "execution_count": 9,
   "metadata": {},
   "outputs": [],
   "source": [
    "def majority_sum_scorer(n_low, low_distr, n_high, high_distr):\n",
    "    maj_sum_low = low_distr.most_common(1)[0][1]\n",
    "    maj_sum_high = high_distr.most_common(1)[0][1]\n",
    "    return maj_sum_low + maj_sum_high\n",
    "    \n",
    "def entropy(distr):\n",
    "    n = sum(distr.values())\n",
    "    ps = [n_i/n for n_i in distr.values()]\n",
    "    return -sum(p*np.log2(p) if p > 0 else 0 for p in ps)\n",
    "\n",
    "def info_gain_scorer(n_low, low_distr, n_high, high_distr):\n",
    "    return -(n_low*entropy(low_distr)+n_high*entropy(high_distr))/(n_low+n_high)\n",
    "\n",
    "def gini_impurity(distr):\n",
    "    n = sum(distr.values())\n",
    "    ps = [n_i/n for n_i in distr.values()]\n",
    "    return 1-sum(p**2 for p in ps)\n",
    "    \n",
    "def gini_scorer(n_low, low_distr, n_high, high_distr):\n",
    "    return -(n_low*gini_impurity(low_distr)+n_high*gini_impurity(high_distr))/(n_low+n_high)"
   ]
  },
  {
   "cell_type": "markdown",
   "metadata": {},
   "source": [
    "### Decision Tree Classifier"
   ]
  },
  {
   "cell_type": "code",
   "execution_count": 10,
   "metadata": {},
   "outputs": [],
   "source": [
    "from collections import Counter\n",
    "\n",
    "class TreeClassifier(DecisionTree, ClassifierMixin):\n",
    "\n",
    "    def __init__(self, max_depth=10, criterion='maj_sum'):\n",
    "        super().__init__(max_depth)\n",
    "        self.criterion = criterion\n",
    "        \n",
    "    def fit(self, X, Y):\n",
    "        # For decision tree classifiers, there are some different ways to measure\n",
    "        # the homogeneity of subsets.\n",
    "        if self.criterion == 'maj_sum':\n",
    "            self.criterion_function = majority_sum_scorer\n",
    "        elif self.criterion == 'info_gain':\n",
    "            self.criterion_function = info_gain_scorer\n",
    "        elif self.criterion == 'gini':\n",
    "            self.criterion_function = gini_scorer\n",
    "        else:\n",
    "            raise Exception(f'Unknown criterion: {self.criterion}')\n",
    "        super().fit(X, Y)\n",
    "        self.classes_ = sorted(set(Y))\n",
    "\n",
    "    # Select a default value that is going to be used if we decide to make a leaf.\n",
    "    # We will select the most common value.\n",
    "    def get_default_value(self, Y):\n",
    "        self.class_distribution = Counter(Y)\n",
    "        return self.class_distribution.most_common(1)[0][0]\n",
    "    \n",
    "    # Checks whether a set of output values is homogeneous. In the classification case, \n",
    "    # this means that all output values are identical.\n",
    "    # We assume that we called get_default_value just before, so that we can access\n",
    "    # the class_distribution attribute. If the class distribution contains just one item,\n",
    "    # this means that the set is homogeneous.\n",
    "    def is_homogeneous(self, Y):\n",
    "        return len(self.class_distribution) == 1\n",
    "        \n",
    "    # Finds the best splitting point for a given feature. We'll keep frequency tables (Counters)\n",
    "    # for the upper and lower parts, and then compute the impurity criterion using these tables.\n",
    "    # In the end, we return a triple consisting of\n",
    "    # - the best score we found, according to the criterion we're using\n",
    "    # - the id of the feature\n",
    "    # - the threshold for the best split\n",
    "    def best_split(self, X, Y, feature):\n",
    "\n",
    "        # Create a list of input-output pairs, where we have sorted\n",
    "        # in ascending order by the input feature we're considering.\n",
    "        sorted_indices = np.argsort(X[:, feature])        \n",
    "        X_sorted = list(X[sorted_indices, feature])\n",
    "        Y_sorted = list(Y[sorted_indices])\n",
    "\n",
    "        n = len(Y)\n",
    "\n",
    "        # The frequency tables corresponding to the parts *before and including*\n",
    "        # and *after* the current element.\n",
    "        low_distr = Counter()\n",
    "        high_distr = Counter(Y)\n",
    "\n",
    "        # Keep track of the best result we've seen so far.\n",
    "        max_score = -np.inf\n",
    "        max_i = None\n",
    "\n",
    "        # Go through all the positions (excluding the last position).\n",
    "        for i in range(0, n-1):\n",
    "\n",
    "            # Input and output at the current position.\n",
    "            x_i = X_sorted[i]\n",
    "            y_i = Y_sorted[i]\n",
    "            \n",
    "            # Update the frequency tables.\n",
    "            low_distr[y_i] += 1\n",
    "            high_distr[y_i] -= 1\n",
    "\n",
    "            # If the input is equal to the input at the next position, we will\n",
    "            # not consider a split here.\n",
    "            #x_next = XY[i+1][0]\n",
    "            x_next = X_sorted[i+1]\n",
    "            if x_i == x_next:\n",
    "                continue\n",
    "\n",
    "            # Compute the homogeneity criterion for a split at this position.\n",
    "            score = self.criterion_function(i+1, low_distr, n-i-1, high_distr)\n",
    "\n",
    "            # If this is the best split, remember it.\n",
    "            if score > max_score:\n",
    "                max_score = score\n",
    "                max_i = i\n",
    "\n",
    "        # If we didn't find any split (meaning that all inputs are identical), return\n",
    "        # a dummy value.\n",
    "        if max_i is None:\n",
    "            return -np.inf, None, None\n",
    "\n",
    "        # Otherwise, return the best split we found and its score.\n",
    "        split_point = 0.5*(X_sorted[max_i] + X_sorted[max_i+1])\n",
    "        return max_score, feature, split_point"
   ]
  },
  {
   "cell_type": "markdown",
   "metadata": {},
   "source": [
    "### Reading the data and preprocessing in the same way as task 1"
   ]
  },
  {
   "cell_type": "code",
   "execution_count": 11,
   "metadata": {},
   "outputs": [],
   "source": [
    "import pandas as pd\n",
    "from sklearn.model_selection import train_test_split\n",
    "  \n",
    "# First the csv file is read using pandas\n",
    "data = pd.read_csv(\"CTG.csv\", skiprows=1)\n",
    "\n",
    "# Select the relevant numerical columns, these are the colums we want.\n",
    "selected_cols = ['LB', 'AC', 'FM', 'UC', 'DL', 'DS', 'DP', 'ASTV', 'MSTV', 'ALTV',\n",
    "                 'MLTV', 'Width', 'Min', 'Max', 'Nmax', 'Nzeros', 'Mode', 'Mean',\n",
    "                 'Median', 'Variance', 'Tendency', 'NSP']\n",
    "\n",
    "# dropna() gets rid of all missing values.\n",
    "data = data[selected_cols].dropna()\n",
    "\n",
    "# The dataset is then shuffled so the order of the data does not matter.\n",
    "data_shuffled = data.sample(frac=1.0, random_state=0)\n",
    "\n",
    "# Next step is to separate the X and the Y for this dataset.\n",
    "X = data_shuffled.drop('NSP', axis=1)\n",
    "\n",
    "# Map the diagnosis code to a human-readable label.\n",
    "def to_label(y):\n",
    "    return [None, 'normal', 'suspect', 'pathologic'][(int(y))]\n",
    "\n",
    "Y = data_shuffled['NSP'].apply(to_label)\n",
    "\n",
    "# The data is partitioned into a traing and test set.\n",
    "Xtrain, Xtest, Ytrain, Ytest = train_test_split(X, Y, test_size=0.2, random_state=0)"
   ]
  },
  {
   "cell_type": "markdown",
   "metadata": {},
   "source": [
    "### Testing the cross-validation performance for different max_depth"
   ]
  },
  {
   "cell_type": "code",
   "execution_count": 12,
   "metadata": {},
   "outputs": [
    {
     "data": {
      "text/plain": [
       "[<matplotlib.lines.Line2D at 0x1258188e0>]"
      ]
     },
     "execution_count": 12,
     "metadata": {},
     "output_type": "execute_result"
    },
    {
     "data": {
      "image/png": "[encoded data removed]",
      "text/plain": [
       "<Figure size 640x480 with 1 Axes>"
      ]
     },
     "metadata": {},
     "output_type": "display_data"
    }
   ],
   "source": [
    "cvscores = []\n",
    "for depth in range(20):\n",
    "    cls = TreeClassifier(max_depth=depth)\n",
    "    cvscores.append(np.median(cross_val_score(cls, Xtrain, Ytrain)))\n",
    "\n",
    "plt.title(\"Cross validation scores for different Max Depth.\")\n",
    "plt.xlabel(\"Max Depth\")\n",
    "plt.ylabel(\"Median Cross Validation Score\")\n",
    "plt.xticks(ticks=[x for x in range(20)])\n",
    "plt.plot(cvscores)\n"
   ]
  },
  {
   "cell_type": "markdown",
   "metadata": {},
   "source": [
    "The different cross-validation scores are shown above. In order to find the best one programmatically, the code below was run. At first it was implemented by finding the max of all the median cross-validation scores and then finding the index of that value to get the max depth. Since the score at index i is the score when the max weight was i this approach works to get the best score but not to get the best max_depth since multiple max_depth values could give the same score.\n",
    "\n",
    "That approach was used at first but the score is the same for 13 and 16 so therefore the np library argsort was used to get all the indices of the top n biggest values."
   ]
  },
  {
   "cell_type": "code",
   "execution_count": 13,
   "metadata": {},
   "outputs": [
    {
     "name": "stdout",
     "output_type": "stream",
     "text": [
      "Best accuracy of: 0.9205882352941176 achieved with max_depth set to 16\n",
      "Second best accuracy of: 0.9205882352941176 achieved with max_depth set to 15\n",
      "Third best accuracy of: 0.9205882352941176 achieved with max_depth set to 13\n"
     ]
    }
   ],
   "source": [
    "cvscores_nparr = np.array(cvscores)\n",
    "indices = np.argsort(cvscores_nparr)\n",
    "\n",
    "# Reversing to get max_depth with higest score first.\n",
    "reversed_indices = indices[::-1]\n",
    "\n",
    "top_3_indices = reversed_indices[:3]\n",
    "top_3_scores = cvscores_nparr[top_3_indices]\n",
    "\n",
    "max1_accuracy = top_3_scores[0]\n",
    "depth_1 = top_3_indices[0]\n",
    "\n",
    "max2_accuracy = top_3_scores[1]\n",
    "depth_2 = top_3_indices[1]\n",
    "\n",
    "max3_accuracy = top_3_scores[2]\n",
    "depth_3 = top_3_indices[2]\n",
    "\n",
    "\n",
    "print(f\"Best accuracy of: {max1_accuracy} achieved with max_depth set to {depth_1}\")\n",
    "print(f\"Second best accuracy of: {max2_accuracy} achieved with max_depth set to {depth_2}\")\n",
    "print(f\"Third best accuracy of: {max3_accuracy} achieved with max_depth set to {depth_3}\")"
   ]
  },
  {
   "cell_type": "markdown",
   "metadata": {},
   "source": [
    "### Evaluation of the decision tree with chosen max depth\n",
    "\n",
    "The accuracy score was evaluated using the top three cross-validation scores. It can be seen that the best accuracy was achived with the third best cross-validation score depth. It could be that the model starts to overfit ever so slightly which means the max_depth of 4 can still be better despite being less complex."
   ]
  },
  {
   "cell_type": "code",
   "execution_count": 14,
   "metadata": {},
   "outputs": [
    {
     "name": "stdout",
     "output_type": "stream",
     "text": [
      " Accuracy score with max depth set to 16: 0.8826291079812206\n",
      " Accuracy score with max depth set to 15: 0.8732394366197183\n",
      " Accuracy score with max depth set to 13: 0.8896713615023474\n"
     ]
    }
   ],
   "source": [
    "from sklearn.metrics import accuracy_score\n",
    "\n",
    "cls_16 = TreeClassifier(max_depth=16)\n",
    "cls_16.fit(Xtrain, Ytrain)\n",
    "Yguess = cls_16.predict(Xtest)\n",
    "print(f\" Accuracy score with max depth set to {depth_1}: {accuracy_score(Ytest, Yguess)}\")\n",
    "\n",
    "cls_13 = TreeClassifier(max_depth=13)\n",
    "cls_13.fit(Xtrain, Ytrain)\n",
    "Yguess = cls_13.predict(Xtest)\n",
    "print(f\" Accuracy score with max depth set to {depth_2}: {accuracy_score(Ytest, Yguess)}\")\n",
    "\n",
    "cls_4 = TreeClassifier(max_depth=4)\n",
    "cls_4.fit(Xtrain, Ytrain)\n",
    "Yguess = cls_4.predict(Xtest)\n",
    "print(f\" Accuracy score with max depth set to {depth_3}: {accuracy_score(Ytest, Yguess)}\")"
   ]
  },
  {
   "cell_type": "markdown",
   "metadata": {},
   "source": [
    "### Chosen depth: 4, Accuracy Score: 0.8896713615023474\n"
   ]
  },
  {
   "cell_type": "markdown",
   "metadata": {},
   "source": [
    "### Drawing the tree\n",
    "\n",
    "Drawing the tree with max_depth 4 below."
   ]
  },
  {
   "cell_type": "code",
   "execution_count": 15,
   "metadata": {},
   "outputs": [
    {
     "data": {
      "image/svg+xml": [
       "<?xml version=\"1.0\" encoding=\"UTF-8\" standalone=\"no\"?>\n",
       "<!DOCTYPE svg PUBLIC \"-//W3C//DTD SVG 1.1//EN\"\n",
       " \"http://www.w3.org/Graphics/SVG/1.1/DTD/svg11.dtd\">\n",
       "<!-- Generated by graphviz version 12.2.1 (20241206.2353)\n",
       " -->\n",
       "<!-- Pages: 1 -->\n",
       "<svg width=\"1187pt\" height=\"398pt\"\n",
       " viewBox=\"0.00 0.00 1186.58 398.00\" xmlns=\"http://www.w3.org/2000/svg\" xmlns:xlink=\"http://www.w3.org/1999/xlink\">\n",
       "<g id=\"graph0\" class=\"graph\" transform=\"scale(1 1) rotate(0) translate(4 394)\">\n",
       "<polygon fill=\"white\" stroke=\"none\" points=\"-4,4 -4,-394 1182.58,-394 1182.58,4 -4,4\"/>\n",
       "<!-- 0 -->\n",
       "<g id=\"node1\" class=\"node\">\n",
       "<title>0</title>\n",
       "<ellipse fill=\"lightgrey\" stroke=\"black\" cx=\"37.53\" cy=\"-18\" rx=\"37.53\" ry=\"18\"/>\n",
       "<text text-anchor=\"middle\" x=\"37.53\" y=\"-12.95\" font-family=\"Times,serif\" font-size=\"14.00\">normal</text>\n",
       "</g>\n",
       "<!-- 1 -->\n",
       "<g id=\"node2\" class=\"node\">\n",
       "<title>1</title>\n",
       "<ellipse fill=\"lightgrey\" stroke=\"black\" cx=\"131.53\" cy=\"-18\" rx=\"38.04\" ry=\"18\"/>\n",
       "<text text-anchor=\"middle\" x=\"131.53\" y=\"-12.95\" font-family=\"Times,serif\" font-size=\"14.00\">suspect</text>\n",
       "</g>\n",
       "<!-- 2 -->\n",
       "<g id=\"node3\" class=\"node\">\n",
       "<title>2</title>\n",
       "<path fill=\"yellow\" stroke=\"black\" d=\"M112.41,-124.5C112.41,-124.5 56.66,-124.5 56.66,-124.5 50.66,-124.5 44.66,-118.5 44.66,-112.5 44.66,-112.5 44.66,-100.5 44.66,-100.5 44.66,-94.5 50.66,-88.5 56.66,-88.5 56.66,-88.5 112.41,-88.5 112.41,-88.5 118.41,-88.5 124.41,-94.5 124.41,-100.5 124.41,-100.5 124.41,-112.5 124.41,-112.5 124.41,-118.5 118.41,-124.5 112.41,-124.5\"/>\n",
       "<text text-anchor=\"middle\" x=\"84.53\" y=\"-101.45\" font-family=\"Times,serif\" font-size=\"14.00\">ALTV &gt; 7?</text>\n",
       "</g>\n",
       "<!-- 2&#45;&gt;0 -->\n",
       "<g id=\"edge1\" class=\"edge\">\n",
       "<title>2&#45;&gt;0</title>\n",
       "<path fill=\"none\" stroke=\"black\" d=\"M75.25,-88.41C68.64,-76.25 59.63,-59.66 52.07,-45.76\"/>\n",
       "<polygon fill=\"black\" stroke=\"black\" points=\"55.21,-44.21 47.36,-37.09 49.06,-47.55 55.21,-44.21\"/>\n",
       "<text text-anchor=\"middle\" x=\"79.49\" y=\"-57.2\" font-family=\"Times,serif\" font-size=\"14.00\">False</text>\n",
       "</g>\n",
       "<!-- 2&#45;&gt;1 -->\n",
       "<g id=\"edge2\" class=\"edge\">\n",
       "<title>2&#45;&gt;1</title>\n",
       "<path fill=\"none\" stroke=\"black\" d=\"M93.82,-88.41C100.43,-76.25 109.44,-59.66 116.99,-45.76\"/>\n",
       "<polygon fill=\"black\" stroke=\"black\" points=\"120,-47.55 121.7,-37.09 113.85,-44.21 120,-47.55\"/>\n",
       "<text text-anchor=\"middle\" x=\"124.99\" y=\"-57.2\" font-family=\"Times,serif\" font-size=\"14.00\">True</text>\n",
       "</g>\n",
       "<!-- 3 -->\n",
       "<g id=\"node4\" class=\"node\">\n",
       "<title>3</title>\n",
       "<ellipse fill=\"lightgrey\" stroke=\"black\" cx=\"192.53\" cy=\"-106.5\" rx=\"49.82\" ry=\"18\"/>\n",
       "<text text-anchor=\"middle\" x=\"192.53\" y=\"-101.45\" font-family=\"Times,serif\" font-size=\"14.00\">pathologic</text>\n",
       "</g>\n",
       "<!-- 4 -->\n",
       "<g id=\"node5\" class=\"node\">\n",
       "<title>4</title>\n",
       "<path fill=\"yellow\" stroke=\"black\" d=\"M228.66,-213C228.66,-213 156.41,-213 156.41,-213 150.41,-213 144.41,-207 144.41,-201 144.41,-201 144.41,-189 144.41,-189 144.41,-183 150.41,-177 156.41,-177 156.41,-177 228.66,-177 228.66,-177 234.66,-177 240.66,-183 240.66,-189 240.66,-189 240.66,-201 240.66,-201 240.66,-207 234.66,-213 228.66,-213\"/>\n",
       "<text text-anchor=\"middle\" x=\"192.53\" y=\"-189.95\" font-family=\"Times,serif\" font-size=\"14.00\">ASTV &gt; 79.5?</text>\n",
       "</g>\n",
       "<!-- 4&#45;&gt;2 -->\n",
       "<g id=\"edge3\" class=\"edge\">\n",
       "<title>4&#45;&gt;2</title>\n",
       "<path fill=\"none\" stroke=\"black\" d=\"M170.94,-176.7C154.9,-163.86 132.8,-146.16 114.97,-131.88\"/>\n",
       "<polygon fill=\"black\" stroke=\"black\" points=\"117.27,-129.23 107.27,-125.71 112.89,-134.7 117.27,-129.23\"/>\n",
       "<text text-anchor=\"middle\" x=\"162.46\" y=\"-145.7\" font-family=\"Times,serif\" font-size=\"14.00\">False</text>\n",
       "</g>\n",
       "<!-- 4&#45;&gt;3 -->\n",
       "<g id=\"edge4\" class=\"edge\">\n",
       "<title>4&#45;&gt;3</title>\n",
       "<path fill=\"none\" stroke=\"black\" d=\"M192.53,-176.91C192.53,-165.26 192.53,-149.55 192.53,-136.02\"/>\n",
       "<polygon fill=\"black\" stroke=\"black\" points=\"196.03,-136.36 192.53,-126.36 189.03,-136.36 196.03,-136.36\"/>\n",
       "<text text-anchor=\"middle\" x=\"205.28\" y=\"-145.7\" font-family=\"Times,serif\" font-size=\"14.00\">True</text>\n",
       "</g>\n",
       "<!-- 5 -->\n",
       "<g id=\"node6\" class=\"node\">\n",
       "<title>5</title>\n",
       "<ellipse fill=\"lightgrey\" stroke=\"black\" cx=\"297.53\" cy=\"-106.5\" rx=\"37.53\" ry=\"18\"/>\n",
       "<text text-anchor=\"middle\" x=\"297.53\" y=\"-101.45\" font-family=\"Times,serif\" font-size=\"14.00\">normal</text>\n",
       "</g>\n",
       "<!-- 6 -->\n",
       "<g id=\"node7\" class=\"node\">\n",
       "<title>6</title>\n",
       "<ellipse fill=\"lightgrey\" stroke=\"black\" cx=\"402.53\" cy=\"-106.5\" rx=\"49.82\" ry=\"18\"/>\n",
       "<text text-anchor=\"middle\" x=\"402.53\" y=\"-101.45\" font-family=\"Times,serif\" font-size=\"14.00\">pathologic</text>\n",
       "</g>\n",
       "<!-- 7 -->\n",
       "<g id=\"node8\" class=\"node\">\n",
       "<title>7</title>\n",
       "<path fill=\"yellow\" stroke=\"black\" d=\"M434.91,-213C434.91,-213 346.16,-213 346.16,-213 340.16,-213 334.16,-207 334.16,-201 334.16,-201 334.16,-189 334.16,-189 334.16,-183 340.16,-177 346.16,-177 346.16,-177 434.91,-177 434.91,-177 440.91,-177 446.91,-183 446.91,-189 446.91,-189 446.91,-201 446.91,-201 446.91,-207 440.91,-213 434.91,-213\"/>\n",
       "<text text-anchor=\"middle\" x=\"390.53\" y=\"-189.95\" font-family=\"Times,serif\" font-size=\"14.00\">Tendency &gt; &#45;0.5?</text>\n",
       "</g>\n",
       "<!-- 7&#45;&gt;5 -->\n",
       "<g id=\"edge5\" class=\"edge\">\n",
       "<title>7&#45;&gt;5</title>\n",
       "<path fill=\"none\" stroke=\"black\" d=\"M372.16,-176.91C357.96,-163.7 338.14,-145.27 322.5,-130.73\"/>\n",
       "<polygon fill=\"black\" stroke=\"black\" points=\"325.12,-128.38 315.41,-124.13 320.35,-133.5 325.12,-128.38\"/>\n",
       "<text text-anchor=\"middle\" x=\"366.61\" y=\"-145.7\" font-family=\"Times,serif\" font-size=\"14.00\">False</text>\n",
       "</g>\n",
       "<!-- 7&#45;&gt;6 -->\n",
       "<g id=\"edge6\" class=\"edge\">\n",
       "<title>7&#45;&gt;6</title>\n",
       "<path fill=\"none\" stroke=\"black\" d=\"M392.9,-176.91C394.52,-165.26 396.7,-149.55 398.58,-136.02\"/>\n",
       "<polygon fill=\"black\" stroke=\"black\" points=\"402.01,-136.74 399.92,-126.35 395.08,-135.77 402.01,-136.74\"/>\n",
       "<text text-anchor=\"middle\" x=\"410.36\" y=\"-145.7\" font-family=\"Times,serif\" font-size=\"14.00\">True</text>\n",
       "</g>\n",
       "<!-- 8 -->\n",
       "<g id=\"node9\" class=\"node\">\n",
       "<title>8</title>\n",
       "<path fill=\"yellow\" stroke=\"black\" d=\"M427.03,-301.5C427.03,-301.5 354.03,-301.5 354.03,-301.5 348.03,-301.5 342.03,-295.5 342.03,-289.5 342.03,-289.5 342.03,-277.5 342.03,-277.5 342.03,-271.5 348.03,-265.5 354.03,-265.5 354.03,-265.5 427.03,-265.5 427.03,-265.5 433.03,-265.5 439.03,-271.5 439.03,-277.5 439.03,-277.5 439.03,-289.5 439.03,-289.5 439.03,-295.5 433.03,-301.5 427.03,-301.5\"/>\n",
       "<text text-anchor=\"middle\" x=\"390.53\" y=\"-278.45\" font-family=\"Times,serif\" font-size=\"14.00\">ALTV &gt; 68.5?</text>\n",
       "</g>\n",
       "<!-- 8&#45;&gt;4 -->\n",
       "<g id=\"edge7\" class=\"edge\">\n",
       "<title>8&#45;&gt;4</title>\n",
       "<path fill=\"none\" stroke=\"black\" d=\"M350.94,-265.2C319.88,-251.63 276.44,-232.66 242.91,-218.01\"/>\n",
       "<polygon fill=\"black\" stroke=\"black\" points=\"244.35,-214.82 233.78,-214.02 241.54,-221.23 244.35,-214.82\"/>\n",
       "<text text-anchor=\"middle\" x=\"323.52\" y=\"-234.2\" font-family=\"Times,serif\" font-size=\"14.00\">False</text>\n",
       "</g>\n",
       "<!-- 8&#45;&gt;7 -->\n",
       "<g id=\"edge8\" class=\"edge\">\n",
       "<title>8&#45;&gt;7</title>\n",
       "<path fill=\"none\" stroke=\"black\" d=\"M390.53,-265.41C390.53,-253.76 390.53,-238.05 390.53,-224.52\"/>\n",
       "<polygon fill=\"black\" stroke=\"black\" points=\"394.03,-224.86 390.53,-214.86 387.03,-224.86 394.03,-224.86\"/>\n",
       "<text text-anchor=\"middle\" x=\"403.28\" y=\"-234.2\" font-family=\"Times,serif\" font-size=\"14.00\">True</text>\n",
       "</g>\n",
       "<!-- 9 -->\n",
       "<g id=\"node10\" class=\"node\">\n",
       "<title>9</title>\n",
       "<ellipse fill=\"lightgrey\" stroke=\"black\" cx=\"412.53\" cy=\"-18\" rx=\"38.04\" ry=\"18\"/>\n",
       "<text text-anchor=\"middle\" x=\"412.53\" y=\"-12.95\" font-family=\"Times,serif\" font-size=\"14.00\">suspect</text>\n",
       "</g>\n",
       "<!-- 10 -->\n",
       "<g id=\"node11\" class=\"node\">\n",
       "<title>10</title>\n",
       "<ellipse fill=\"lightgrey\" stroke=\"black\" cx=\"518.53\" cy=\"-18\" rx=\"49.82\" ry=\"18\"/>\n",
       "<text text-anchor=\"middle\" x=\"518.53\" y=\"-12.95\" font-family=\"Times,serif\" font-size=\"14.00\">pathologic</text>\n",
       "</g>\n",
       "<!-- 11 -->\n",
       "<g id=\"node12\" class=\"node\">\n",
       "<title>11</title>\n",
       "<path fill=\"yellow\" stroke=\"black\" d=\"M554.28,-124.5C554.28,-124.5 482.78,-124.5 482.78,-124.5 476.78,-124.5 470.78,-118.5 470.78,-112.5 470.78,-112.5 470.78,-100.5 470.78,-100.5 470.78,-94.5 476.78,-88.5 482.78,-88.5 482.78,-88.5 554.28,-88.5 554.28,-88.5 560.28,-88.5 566.28,-94.5 566.28,-100.5 566.28,-100.5 566.28,-112.5 566.28,-112.5 566.28,-118.5 560.28,-124.5 554.28,-124.5\"/>\n",
       "<text text-anchor=\"middle\" x=\"518.53\" y=\"-101.45\" font-family=\"Times,serif\" font-size=\"14.00\">Width &gt; 72.5?</text>\n",
       "</g>\n",
       "<!-- 11&#45;&gt;9 -->\n",
       "<g id=\"edge9\" class=\"edge\">\n",
       "<title>11&#45;&gt;9</title>\n",
       "<path fill=\"none\" stroke=\"black\" d=\"M497.34,-88.2C480.77,-74.68 457.62,-55.8 439.7,-41.17\"/>\n",
       "<polygon fill=\"black\" stroke=\"black\" points=\"442,-38.53 432.04,-34.92 437.57,-43.95 442,-38.53\"/>\n",
       "<text text-anchor=\"middle\" x=\"489.28\" y=\"-57.2\" font-family=\"Times,serif\" font-size=\"14.00\">False</text>\n",
       "</g>\n",
       "<!-- 11&#45;&gt;10 -->\n",
       "<g id=\"edge10\" class=\"edge\">\n",
       "<title>11&#45;&gt;10</title>\n",
       "<path fill=\"none\" stroke=\"black\" d=\"M518.53,-88.41C518.53,-76.76 518.53,-61.05 518.53,-47.52\"/>\n",
       "<polygon fill=\"black\" stroke=\"black\" points=\"522.03,-47.86 518.53,-37.86 515.03,-47.86 522.03,-47.86\"/>\n",
       "<text text-anchor=\"middle\" x=\"531.28\" y=\"-57.2\" font-family=\"Times,serif\" font-size=\"14.00\">True</text>\n",
       "</g>\n",
       "<!-- 12 -->\n",
       "<g id=\"node13\" class=\"node\">\n",
       "<title>12</title>\n",
       "<ellipse fill=\"lightgrey\" stroke=\"black\" cx=\"636.53\" cy=\"-18\" rx=\"49.82\" ry=\"18\"/>\n",
       "<text text-anchor=\"middle\" x=\"636.53\" y=\"-12.95\" font-family=\"Times,serif\" font-size=\"14.00\">pathologic</text>\n",
       "</g>\n",
       "<!-- 13 -->\n",
       "<g id=\"node14\" class=\"node\">\n",
       "<title>13</title>\n",
       "<ellipse fill=\"lightgrey\" stroke=\"black\" cx=\"741.53\" cy=\"-18\" rx=\"37.53\" ry=\"18\"/>\n",
       "<text text-anchor=\"middle\" x=\"741.53\" y=\"-12.95\" font-family=\"Times,serif\" font-size=\"14.00\">normal</text>\n",
       "</g>\n",
       "<!-- 14 -->\n",
       "<g id=\"node15\" class=\"node\">\n",
       "<title>14</title>\n",
       "<path fill=\"yellow\" stroke=\"black\" d=\"M681.03,-124.5C681.03,-124.5 596.03,-124.5 596.03,-124.5 590.03,-124.5 584.03,-118.5 584.03,-112.5 584.03,-112.5 584.03,-100.5 584.03,-100.5 584.03,-94.5 590.03,-88.5 596.03,-88.5 596.03,-88.5 681.03,-88.5 681.03,-88.5 687.03,-88.5 693.03,-94.5 693.03,-100.5 693.03,-100.5 693.03,-112.5 693.03,-112.5 693.03,-118.5 687.03,-124.5 681.03,-124.5\"/>\n",
       "<text text-anchor=\"middle\" x=\"638.53\" y=\"-101.45\" font-family=\"Times,serif\" font-size=\"14.00\">Variance &gt; 23.5?</text>\n",
       "</g>\n",
       "<!-- 14&#45;&gt;12 -->\n",
       "<g id=\"edge11\" class=\"edge\">\n",
       "<title>14&#45;&gt;12</title>\n",
       "<path fill=\"none\" stroke=\"black\" d=\"M638.14,-88.41C637.87,-76.76 637.5,-61.05 637.19,-47.52\"/>\n",
       "<polygon fill=\"black\" stroke=\"black\" points=\"640.7,-47.78 636.97,-37.86 633.7,-47.94 640.7,-47.78\"/>\n",
       "<text text-anchor=\"middle\" x=\"651.96\" y=\"-57.2\" font-family=\"Times,serif\" font-size=\"14.00\">False</text>\n",
       "</g>\n",
       "<!-- 14&#45;&gt;13 -->\n",
       "<g id=\"edge12\" class=\"edge\">\n",
       "<title>14&#45;&gt;13</title>\n",
       "<path fill=\"none\" stroke=\"black\" d=\"M658.88,-88.41C674.96,-74.91 697.52,-55.96 715.01,-41.27\"/>\n",
       "<polygon fill=\"black\" stroke=\"black\" points=\"717.07,-44.12 722.47,-35.01 712.57,-38.76 717.07,-44.12\"/>\n",
       "<text text-anchor=\"middle\" x=\"712.01\" y=\"-57.2\" font-family=\"Times,serif\" font-size=\"14.00\">True</text>\n",
       "</g>\n",
       "<!-- 15 -->\n",
       "<g id=\"node16\" class=\"node\">\n",
       "<title>15</title>\n",
       "<path fill=\"yellow\" stroke=\"black\" d=\"M587.53,-213C587.53,-213 517.53,-213 517.53,-213 511.53,-213 505.53,-207 505.53,-201 505.53,-201 505.53,-189 505.53,-189 505.53,-183 511.53,-177 517.53,-177 517.53,-177 587.53,-177 587.53,-177 593.53,-177 599.53,-183 599.53,-189 599.53,-189 599.53,-201 599.53,-201 599.53,-207 593.53,-213 587.53,-213\"/>\n",
       "<text text-anchor=\"middle\" x=\"552.53\" y=\"-189.95\" font-family=\"Times,serif\" font-size=\"14.00\">Max &gt; 220.5?</text>\n",
       "</g>\n",
       "<!-- 15&#45;&gt;11 -->\n",
       "<g id=\"edge13\" class=\"edge\">\n",
       "<title>15&#45;&gt;11</title>\n",
       "<path fill=\"none\" stroke=\"black\" d=\"M545.82,-176.91C541.14,-165.02 534.81,-148.91 529.42,-135.2\"/>\n",
       "<polygon fill=\"black\" stroke=\"black\" points=\"532.82,-134.29 525.91,-126.26 526.31,-136.85 532.82,-134.29\"/>\n",
       "<text text-anchor=\"middle\" x=\"552.83\" y=\"-145.7\" font-family=\"Times,serif\" font-size=\"14.00\">False</text>\n",
       "</g>\n",
       "<!-- 15&#45;&gt;14 -->\n",
       "<g id=\"edge14\" class=\"edge\">\n",
       "<title>15&#45;&gt;14</title>\n",
       "<path fill=\"none\" stroke=\"black\" d=\"M569.52,-176.91C582.04,-164.32 599.28,-146.98 613.39,-132.79\"/>\n",
       "<polygon fill=\"black\" stroke=\"black\" points=\"615.65,-135.48 620.22,-125.92 610.68,-130.55 615.65,-135.48\"/>\n",
       "<text text-anchor=\"middle\" x=\"615.99\" y=\"-145.7\" font-family=\"Times,serif\" font-size=\"14.00\">True</text>\n",
       "</g>\n",
       "<!-- 16 -->\n",
       "<g id=\"node17\" class=\"node\">\n",
       "<title>16</title>\n",
       "<ellipse fill=\"lightgrey\" stroke=\"black\" cx=\"835.53\" cy=\"-18\" rx=\"38.04\" ry=\"18\"/>\n",
       "<text text-anchor=\"middle\" x=\"835.53\" y=\"-12.95\" font-family=\"Times,serif\" font-size=\"14.00\">suspect</text>\n",
       "</g>\n",
       "<!-- 17 -->\n",
       "<g id=\"node18\" class=\"node\">\n",
       "<title>17</title>\n",
       "<ellipse fill=\"lightgrey\" stroke=\"black\" cx=\"929.53\" cy=\"-18\" rx=\"37.53\" ry=\"18\"/>\n",
       "<text text-anchor=\"middle\" x=\"929.53\" y=\"-12.95\" font-family=\"Times,serif\" font-size=\"14.00\">normal</text>\n",
       "</g>\n",
       "<!-- 18 -->\n",
       "<g id=\"node19\" class=\"node\">\n",
       "<title>18</title>\n",
       "<path fill=\"yellow\" stroke=\"black\" d=\"M899.66,-124.5C899.66,-124.5 845.41,-124.5 845.41,-124.5 839.41,-124.5 833.41,-118.5 833.41,-112.5 833.41,-112.5 833.41,-100.5 833.41,-100.5 833.41,-94.5 839.41,-88.5 845.41,-88.5 845.41,-88.5 899.66,-88.5 899.66,-88.5 905.66,-88.5 911.66,-94.5 911.66,-100.5 911.66,-100.5 911.66,-112.5 911.66,-112.5 911.66,-118.5 905.66,-124.5 899.66,-124.5\"/>\n",
       "<text text-anchor=\"middle\" x=\"872.53\" y=\"-101.45\" font-family=\"Times,serif\" font-size=\"14.00\">Width &gt; 9?</text>\n",
       "</g>\n",
       "<!-- 18&#45;&gt;16 -->\n",
       "<g id=\"edge15\" class=\"edge\">\n",
       "<title>18&#45;&gt;16</title>\n",
       "<path fill=\"none\" stroke=\"black\" d=\"M865.22,-88.41C860.1,-76.44 853.16,-60.2 847.27,-46.43\"/>\n",
       "<polygon fill=\"black\" stroke=\"black\" points=\"850.57,-45.26 843.42,-37.45 844.14,-48.02 850.57,-45.26\"/>\n",
       "<text text-anchor=\"middle\" x=\"871.6\" y=\"-57.2\" font-family=\"Times,serif\" font-size=\"14.00\">False</text>\n",
       "</g>\n",
       "<!-- 18&#45;&gt;17 -->\n",
       "<g id=\"edge16\" class=\"edge\">\n",
       "<title>18&#45;&gt;17</title>\n",
       "<path fill=\"none\" stroke=\"black\" d=\"M883.79,-88.41C891.94,-76.05 903.09,-59.12 912.35,-45.08\"/>\n",
       "<polygon fill=\"black\" stroke=\"black\" points=\"915.27,-47.01 917.85,-36.73 909.42,-43.16 915.27,-47.01\"/>\n",
       "<text text-anchor=\"middle\" x=\"918.89\" y=\"-57.2\" font-family=\"Times,serif\" font-size=\"14.00\">True</text>\n",
       "</g>\n",
       "<!-- 19 -->\n",
       "<g id=\"node20\" class=\"node\">\n",
       "<title>19</title>\n",
       "<ellipse fill=\"lightgrey\" stroke=\"black\" cx=\"1034.53\" cy=\"-18\" rx=\"49.82\" ry=\"18\"/>\n",
       "<text text-anchor=\"middle\" x=\"1034.53\" y=\"-12.95\" font-family=\"Times,serif\" font-size=\"14.00\">pathologic</text>\n",
       "</g>\n",
       "<!-- 20 -->\n",
       "<g id=\"node21\" class=\"node\">\n",
       "<title>20</title>\n",
       "<ellipse fill=\"lightgrey\" stroke=\"black\" cx=\"1140.53\" cy=\"-18\" rx=\"38.04\" ry=\"18\"/>\n",
       "<text text-anchor=\"middle\" x=\"1140.53\" y=\"-12.95\" font-family=\"Times,serif\" font-size=\"14.00\">suspect</text>\n",
       "</g>\n",
       "<!-- 21 -->\n",
       "<g id=\"node22\" class=\"node\">\n",
       "<title>21</title>\n",
       "<path fill=\"yellow\" stroke=\"black\" d=\"M1077.78,-124.5C1077.78,-124.5 991.28,-124.5 991.28,-124.5 985.28,-124.5 979.28,-118.5 979.28,-112.5 979.28,-112.5 979.28,-100.5 979.28,-100.5 979.28,-94.5 985.28,-88.5 991.28,-88.5 991.28,-88.5 1077.78,-88.5 1077.78,-88.5 1083.78,-88.5 1089.78,-94.5 1089.78,-100.5 1089.78,-100.5 1089.78,-112.5 1089.78,-112.5 1089.78,-118.5 1083.78,-124.5 1077.78,-124.5\"/>\n",
       "<text text-anchor=\"middle\" x=\"1034.53\" y=\"-101.45\" font-family=\"Times,serif\" font-size=\"14.00\">Median &gt; 128.5?</text>\n",
       "</g>\n",
       "<!-- 21&#45;&gt;19 -->\n",
       "<g id=\"edge17\" class=\"edge\">\n",
       "<title>21&#45;&gt;19</title>\n",
       "<path fill=\"none\" stroke=\"black\" d=\"M1034.53,-88.41C1034.53,-76.76 1034.53,-61.05 1034.53,-47.52\"/>\n",
       "<polygon fill=\"black\" stroke=\"black\" points=\"1038.03,-47.86 1034.53,-37.86 1031.03,-47.86 1038.03,-47.86\"/>\n",
       "<text text-anchor=\"middle\" x=\"1048.78\" y=\"-57.2\" font-family=\"Times,serif\" font-size=\"14.00\">False</text>\n",
       "</g>\n",
       "<!-- 21&#45;&gt;20 -->\n",
       "<g id=\"edge18\" class=\"edge\">\n",
       "<title>21&#45;&gt;20</title>\n",
       "<path fill=\"none\" stroke=\"black\" d=\"M1055.73,-88.2C1072.3,-74.68 1095.44,-55.8 1113.37,-41.17\"/>\n",
       "<polygon fill=\"black\" stroke=\"black\" points=\"1115.49,-43.95 1121.03,-34.92 1111.07,-38.53 1115.49,-43.95\"/>\n",
       "<text text-anchor=\"middle\" x=\"1109.78\" y=\"-57.2\" font-family=\"Times,serif\" font-size=\"14.00\">True</text>\n",
       "</g>\n",
       "<!-- 22 -->\n",
       "<g id=\"node23\" class=\"node\">\n",
       "<title>22</title>\n",
       "<path fill=\"yellow\" stroke=\"black\" d=\"M896.28,-213C896.28,-213 848.78,-213 848.78,-213 842.78,-213 836.78,-207 836.78,-201 836.78,-201 836.78,-189 836.78,-189 836.78,-183 842.78,-177 848.78,-177 848.78,-177 896.28,-177 896.28,-177 902.28,-177 908.28,-183 908.28,-189 908.28,-189 908.28,-201 908.28,-201 908.28,-207 902.28,-213 896.28,-213\"/>\n",
       "<text text-anchor=\"middle\" x=\"872.53\" y=\"-189.95\" font-family=\"Times,serif\" font-size=\"14.00\">DP &gt; 1.5?</text>\n",
       "</g>\n",
       "<!-- 22&#45;&gt;18 -->\n",
       "<g id=\"edge19\" class=\"edge\">\n",
       "<title>22&#45;&gt;18</title>\n",
       "<path fill=\"none\" stroke=\"black\" d=\"M872.53,-176.91C872.53,-165.26 872.53,-149.55 872.53,-136.02\"/>\n",
       "<polygon fill=\"black\" stroke=\"black\" points=\"876.03,-136.36 872.53,-126.36 869.03,-136.36 876.03,-136.36\"/>\n",
       "<text text-anchor=\"middle\" x=\"886.78\" y=\"-145.7\" font-family=\"Times,serif\" font-size=\"14.00\">False</text>\n",
       "</g>\n",
       "<!-- 22&#45;&gt;21 -->\n",
       "<g id=\"edge20\" class=\"edge\">\n",
       "<title>22&#45;&gt;21</title>\n",
       "<path fill=\"none\" stroke=\"black\" d=\"M904.93,-176.7C929.9,-163.37 964.65,-144.81 991.88,-130.27\"/>\n",
       "<polygon fill=\"black\" stroke=\"black\" points=\"993.41,-133.43 1000.58,-125.63 990.11,-127.25 993.41,-133.43\"/>\n",
       "<text text-anchor=\"middle\" x=\"980.79\" y=\"-145.7\" font-family=\"Times,serif\" font-size=\"14.00\">True</text>\n",
       "</g>\n",
       "<!-- 23 -->\n",
       "<g id=\"node24\" class=\"node\">\n",
       "<title>23</title>\n",
       "<path fill=\"yellow\" stroke=\"black\" d=\"M590.53,-301.5C590.53,-301.5 514.53,-301.5 514.53,-301.5 508.53,-301.5 502.53,-295.5 502.53,-289.5 502.53,-289.5 502.53,-277.5 502.53,-277.5 502.53,-271.5 508.53,-265.5 514.53,-265.5 514.53,-265.5 590.53,-265.5 590.53,-265.5 596.53,-265.5 602.53,-271.5 602.53,-277.5 602.53,-277.5 602.53,-289.5 602.53,-289.5 602.53,-295.5 596.53,-301.5 590.53,-301.5\"/>\n",
       "<text text-anchor=\"middle\" x=\"552.53\" y=\"-278.45\" font-family=\"Times,serif\" font-size=\"14.00\">Mean &gt; 107.5?</text>\n",
       "</g>\n",
       "<!-- 23&#45;&gt;15 -->\n",
       "<g id=\"edge21\" class=\"edge\">\n",
       "<title>23&#45;&gt;15</title>\n",
       "<path fill=\"none\" stroke=\"black\" d=\"M552.53,-265.41C552.53,-253.76 552.53,-238.05 552.53,-224.52\"/>\n",
       "<polygon fill=\"black\" stroke=\"black\" points=\"556.03,-224.86 552.53,-214.86 549.03,-224.86 556.03,-224.86\"/>\n",
       "<text text-anchor=\"middle\" x=\"566.78\" y=\"-234.2\" font-family=\"Times,serif\" font-size=\"14.00\">False</text>\n",
       "</g>\n",
       "<!-- 23&#45;&gt;22 -->\n",
       "<g id=\"edge22\" class=\"edge\">\n",
       "<title>23&#45;&gt;22</title>\n",
       "<path fill=\"none\" stroke=\"black\" d=\"M602.88,-268.89C663.9,-252.4 765.9,-224.82 825.42,-208.73\"/>\n",
       "<polygon fill=\"black\" stroke=\"black\" points=\"826.18,-212.16 834.92,-206.17 824.35,-205.4 826.18,-212.16\"/>\n",
       "<text text-anchor=\"middle\" x=\"753.94\" y=\"-234.2\" font-family=\"Times,serif\" font-size=\"14.00\">True</text>\n",
       "</g>\n",
       "<!-- 24 -->\n",
       "<g id=\"node25\" class=\"node\">\n",
       "<title>24</title>\n",
       "<path fill=\"yellow\" stroke=\"black\" d=\"M488.16,-390C488.16,-390 412.91,-390 412.91,-390 406.91,-390 400.91,-384 400.91,-378 400.91,-378 400.91,-366 400.91,-366 400.91,-360 406.91,-354 412.91,-354 412.91,-354 488.16,-354 488.16,-354 494.16,-354 500.16,-360 500.16,-366 500.16,-366 500.16,-378 500.16,-378 500.16,-384 494.16,-390 488.16,-390\"/>\n",
       "<text text-anchor=\"middle\" x=\"450.53\" y=\"-366.95\" font-family=\"Times,serif\" font-size=\"14.00\">MSTV &gt; 0.45?</text>\n",
       "</g>\n",
       "<!-- 24&#45;&gt;8 -->\n",
       "<g id=\"edge23\" class=\"edge\">\n",
       "<title>24&#45;&gt;8</title>\n",
       "<path fill=\"none\" stroke=\"black\" d=\"M438.68,-353.91C430.19,-341.67 418.59,-324.95 408.91,-310.99\"/>\n",
       "<polygon fill=\"black\" stroke=\"black\" points=\"412.01,-309.32 403.43,-303.09 406.25,-313.31 412.01,-309.32\"/>\n",
       "<text text-anchor=\"middle\" x=\"440.16\" y=\"-322.7\" font-family=\"Times,serif\" font-size=\"14.00\">False</text>\n",
       "</g>\n",
       "<!-- 24&#45;&gt;23 -->\n",
       "<g id=\"edge24\" class=\"edge\">\n",
       "<title>24&#45;&gt;23</title>\n",
       "<path fill=\"none\" stroke=\"black\" d=\"M470.68,-353.91C485.81,-341.08 506.74,-323.33 523.65,-308.99\"/>\n",
       "<polygon fill=\"black\" stroke=\"black\" points=\"525.56,-311.97 530.92,-302.83 521.03,-306.63 525.56,-311.97\"/>\n",
       "<text text-anchor=\"middle\" x=\"523.42\" y=\"-322.7\" font-family=\"Times,serif\" font-size=\"14.00\">True</text>\n",
       "</g>\n",
       "</g>\n",
       "</svg>\n"
      ],
      "text/plain": [
       "<graphviz.graphs.Digraph at 0x124dba590>"
      ]
     },
     "execution_count": 15,
     "metadata": {},
     "output_type": "execute_result"
    }
   ],
   "source": [
    "cls = TreeClassifier(max_depth=4)\n",
    "cls.fit(Xtrain, Ytrain)\n",
    "cls.draw_tree()"
   ]
  },
  {
   "cell_type": "markdown",
   "metadata": {},
   "source": [
    "# Task 3: A regression example: predicting apartment prices\n",
    "\n",
    "In this task, different regression models are experimented with on a dataset with information about the russian real estate market. The goal is to predict the price of an apartment, given numerical information about the number of rooms, the size of the apartment and more.\n",
    "\n",
    "The workflow looks similar to what it did for task 1 where a suitable model was found using cross-validation over the training set and then the chosen model was evaluated on the test data."
   ]
  },
  {
   "cell_type": "code",
   "execution_count": 16,
   "metadata": {},
   "outputs": [],
   "source": [
    "import pandas as pd\n",
    "import numpy as np\n",
    "from matplotlib import pyplot as plt\n",
    "from sklearn.model_selection import train_test_split"
   ]
  },
  {
   "cell_type": "markdown",
   "metadata": {},
   "source": [
    "The following code is given to transfor the data into the right format for regression and selects which columns should be used."
   ]
  },
  {
   "cell_type": "code",
   "execution_count": 17,
   "metadata": {},
   "outputs": [],
   "source": [
    "# Read the CSV file using Pandas.\n",
    "alldata = pd.read_csv(\"sberbank.csv\")\n",
    "\n",
    "# Convert the timestamp string to an integer representing the year.\n",
    "def get_year(timestamp):\n",
    "    return int(timestamp[:4])\n",
    "alldata['year'] = alldata.timestamp.apply(get_year)\n",
    "\n",
    "# Select the 7 input columns and the output column.\n",
    "selected_columns = ['price_doc', 'year', 'full_sq', 'life_sq', 'floor', 'num_room', 'kitch_sq', 'full_all']\n",
    "alldata = alldata[selected_columns]\n",
    "alldata = alldata.dropna()\n",
    "\n",
    "# Shuffle.\n",
    "alldata_shuffled = alldata.sample(frac=1.0, random_state=0)\n",
    "\n",
    "# Separate the input and output columns.\n",
    "X = alldata_shuffled.drop('price_doc', axis=1)\n",
    "# For the output, we'll use the log of the sales price.\n",
    "Y = alldata_shuffled['price_doc'].apply(np.log)\n",
    "\n",
    "# Split into training and test sets.\n",
    "Xtrain, Xtest, Ytrain, Ytest = train_test_split(X, Y, test_size=0.2, random_state=0)"
   ]
  },
  {
   "cell_type": "markdown",
   "metadata": {},
   "source": [
    "A dummy classifier that always predicts the same value is used as a basline to compare the other models.\n",
    "\n",
    "The code in this task looks quite similar to the code in task 1. The main difference is that we are looking at numerical predictions rather than labels(classes) and that the evaluation is done using a different metric, in this case mean squared error."
   ]
  },
  {
   "cell_type": "code",
   "execution_count": 18,
   "metadata": {},
   "outputs": [
    {
     "name": "stdout",
     "output_type": "stream",
     "text": [
      "0.3905715631956676\n"
     ]
    }
   ],
   "source": [
    "from sklearn.dummy import DummyRegressor\n",
    "from sklearn.model_selection import cross_validate\n",
    "m1 = DummyRegressor()\n",
    "score = cross_validate(m1, Xtrain, Ytrain, scoring='neg_mean_squared_error')\n",
    "print(-np.median(score[\"test_score\"]))"
   ]
  },
  {
   "cell_type": "markdown",
   "metadata": {},
   "source": [
    "#### Linear Regression"
   ]
  },
  {
   "cell_type": "code",
   "execution_count": 19,
   "metadata": {},
   "outputs": [
    {
     "name": "stdout",
     "output_type": "stream",
     "text": [
      "0.29377903315023374\n"
     ]
    }
   ],
   "source": [
    "from sklearn.linear_model import LinearRegression\n",
    "\n",
    "m5 = LinearRegression()\n",
    "score = cross_validate(m5, Xtrain, Ytrain, scoring='neg_mean_squared_error')\n",
    "print(-np.median(score[\"test_score\"]))"
   ]
  },
  {
   "cell_type": "markdown",
   "metadata": {},
   "source": [
    "#### Ridge"
   ]
  },
  {
   "cell_type": "code",
   "execution_count": 20,
   "metadata": {},
   "outputs": [
    {
     "name": "stdout",
     "output_type": "stream",
     "text": [
      "0.29377831441920216\n"
     ]
    }
   ],
   "source": [
    "from sklearn.linear_model import Ridge\n",
    "\n",
    "m_ridge = Ridge(random_state=42)\n",
    "score = cross_validate(m_ridge, Xtrain, Ytrain, scoring='neg_mean_squared_error')\n",
    "print(-np.median(score[\"test_score\"]))"
   ]
  },
  {
   "cell_type": "markdown",
   "metadata": {},
   "source": [
    "#### Lasso"
   ]
  },
  {
   "cell_type": "code",
   "execution_count": 21,
   "metadata": {},
   "outputs": [
    {
     "name": "stdout",
     "output_type": "stream",
     "text": [
      "0.3006132501377651\n"
     ]
    }
   ],
   "source": [
    "from sklearn.linear_model import Lasso\n",
    "\n",
    "m_lasso = Lasso(random_state=42)\n",
    "score = cross_validate(m_lasso, Xtrain, Ytrain, scoring='neg_mean_squared_error')\n",
    "print(-np.median(score[\"test_score\"]))"
   ]
  },
  {
   "cell_type": "markdown",
   "metadata": {},
   "source": [
    "#### Decision Tree Regressor"
   ]
  },
  {
   "cell_type": "code",
   "execution_count": 22,
   "metadata": {},
   "outputs": [
    {
     "name": "stdout",
     "output_type": "stream",
     "text": [
      "0.28017072517822894\n"
     ]
    }
   ],
   "source": [
    "from sklearn.tree import DecisionTreeRegressor\n",
    "\n",
    "m_dtr = DecisionTreeRegressor(random_state=42, max_depth=6)\n",
    "score = cross_validate(m_dtr, Xtrain, Ytrain, scoring='neg_mean_squared_error')\n",
    "print(-np.median(score[\"test_score\"]))"
   ]
  },
  {
   "cell_type": "markdown",
   "metadata": {},
   "source": [
    "#### Random Forest Regressor"
   ]
  },
  {
   "cell_type": "code",
   "execution_count": 23,
   "metadata": {},
   "outputs": [
    {
     "name": "stdout",
     "output_type": "stream",
     "text": [
      "0.28406740746581044\n"
     ]
    }
   ],
   "source": [
    "from sklearn.ensemble import RandomForestRegressor\n",
    "\n",
    "m3 = RandomForestRegressor(random_state=42)\n",
    "score = cross_validate(m3, Xtrain, Ytrain, scoring='neg_mean_squared_error')\n",
    "print(-np.median(score[\"test_score\"]))"
   ]
  },
  {
   "cell_type": "markdown",
   "metadata": {},
   "source": [
    "#### Gradient Boosting Regressor"
   ]
  },
  {
   "cell_type": "code",
   "execution_count": 24,
   "metadata": {},
   "outputs": [
    {
     "name": "stdout",
     "output_type": "stream",
     "text": [
      "0.263311184683057\n"
     ]
    }
   ],
   "source": [
    "from sklearn.ensemble import GradientBoostingRegressor\n",
    "\n",
    "m2 = GradientBoostingRegressor(random_state=42)\n",
    "score = cross_validate(m2, Xtrain, Ytrain, scoring='neg_mean_squared_error')\n",
    "print(-np.median(score[\"test_score\"]))"
   ]
  },
  {
   "cell_type": "markdown",
   "metadata": {},
   "source": [
    "#### MLP Regressor"
   ]
  },
  {
   "cell_type": "code",
   "execution_count": 25,
   "metadata": {},
   "outputs": [
    {
     "name": "stderr",
     "output_type": "stream",
     "text": [
      "/Users/elviramoberg/IdeaProjects/ML assignment 1/ml-env/lib/python3.10/site-packages/sklearn/neural_network/_multilayer_perceptron.py:691: ConvergenceWarning: Stochastic Optimizer: Maximum iterations (200) reached and the optimization hasn't converged yet.\n",
      "  warnings.warn(\n",
      "/Users/elviramoberg/IdeaProjects/ML assignment 1/ml-env/lib/python3.10/site-packages/sklearn/neural_network/_multilayer_perceptron.py:691: ConvergenceWarning: Stochastic Optimizer: Maximum iterations (200) reached and the optimization hasn't converged yet.\n",
      "  warnings.warn(\n"
     ]
    },
    {
     "name": "stdout",
     "output_type": "stream",
     "text": [
      "15.341752245864633\n"
     ]
    }
   ],
   "source": [
    "from sklearn.neural_network import MLPRegressor\n",
    "\n",
    "m4 = MLPRegressor(hidden_layer_sizes=32, activation=\"relu\", random_state=42)\n",
    "score = cross_validate(m4, Xtrain, Ytrain, scoring='neg_mean_squared_error')\n",
    "print(-np.median(score[\"test_score\"]))"
   ]
  },
  {
   "cell_type": "markdown",
   "metadata": {},
   "source": [
    "#### Evaluation of the most promising model.\n",
    "Once again just like in task 1, the most promising model is a gradient boosting algorithm but in this case for regression instead of classification.\n",
    "\n",
    "##### Description of the model\n",
    "In short, gradient bossting algorithms are ensembles, normally of decision trees. By combining multiple decision trees the idea is that it will create a more powerful predictive model.\n",
    "\n",
    "A gradient boosting regressor is similar to a classifier but it works by returning a numerical value instead of predicting a label based on some decision boundry. \n",
    "\n",
    "The following text was also used for task 1 but explains the main idea of gradient boosting algorithms. \n",
    "\n",
    "Boosting is a technique where every new model will try and correct the errors of the previous model. So first one model will try and predict some target variable, then the error or residuals which is the difference between the predictions and the actual values is calculated. The next tree will then be trained on these residuals or errors and try to fix the first models errors. And these predictions are then combined together to make a final prediction.\n",
    "\n",
    "##### Final MSE: 0.2581934547511049\n",
    "In order to get the results, the hyperparameters of the model had to be fine tuned. This was done using experimentation and tweaking the parameters to what seemed to be the optimal value. This included changing the number of trees used in the enseble, which correlates to the number of boosting stages to perform. It seemed like adding more trees did not make the model overfit much so it was set to 400. The max depth and learning rate and min_samples_leaf also had an effect on the result.\n",
    "\n",
    "Final hyperparameters:\n",
    "- n_estimators: 400\n",
    "- min_samples_leaf: 4\n",
    "- max_depth: 4\n",
    "- learning_rate: 0.09\n"
   ]
  },
  {
   "cell_type": "code",
   "execution_count": 26,
   "metadata": {},
   "outputs": [
    {
     "data": {
      "text/plain": [
       "0.2581934547511049"
      ]
     },
     "execution_count": 26,
     "metadata": {},
     "output_type": "execute_result"
    }
   ],
   "source": [
    "from sklearn.metrics import mean_squared_error\n",
    "\n",
    "m2 = m2 = GradientBoostingRegressor(random_state=42, n_estimators=400, min_samples_leaf=4, max_depth=4, learning_rate=0.09)\n",
    "m2.fit(Xtrain, Ytrain)\n",
    "mean_squared_error(Ytest, m2.predict(Xtest))"
   ]
  },
  {
   "cell_type": "markdown",
   "metadata": {},
   "source": [
    "# Task 4: Decision trees for regression\n",
    "For Task 4, a TreeRegressor class is implemented to compute regression with decision trees. The model is then trained and evaluated on the apartment prices example used in Task 3. How underfitting and overfitting occurs when max tree depth changes is also shown."
   ]
  },
  {
   "cell_type": "markdown",
   "metadata": {},
   "source": [
    "### Some of the necessary Imports"
   ]
  },
  {
   "cell_type": "code",
   "execution_count": 27,
   "metadata": {},
   "outputs": [],
   "source": [
    "import pandas as pd\n",
    "import numpy as np\n",
    "from matplotlib import pyplot as plt\n",
    "from sklearn.model_selection import train_test_split\n",
    "from sklearn.base import RegressorMixin\n",
    "from sklearn.metrics import mean_squared_error\n",
    "from graphviz import Digraph\n",
    "from sklearn.base import BaseEstimator\n",
    "from abc import ABC, abstractmethod"
   ]
  },
  {
   "cell_type": "markdown",
   "metadata": {},
   "source": [
    "### DecisionTree classes reused from previous task"
   ]
  },
  {
   "cell_type": "code",
   "execution_count": 28,
   "metadata": {},
   "outputs": [],
   "source": [
    "class DecisionTreeLeaf:\n",
    "\n",
    "    def __init__(self, value):\n",
    "        self.value = value\n",
    "\n",
    "    # This method computes the prediction for this leaf node. This will just return a constant value.\n",
    "    def predict(self, x):\n",
    "        return self.value\n",
    "\n",
    "    # Utility function to draw a tree visually using graphviz.\n",
    "    def draw_tree(self, graph, node_counter, names):\n",
    "        node_id = str(node_counter)\n",
    "        val_str = f'{self.value:.4g}' if isinstance(self.value, float) else str(self.value)\n",
    "        graph.node(node_id, val_str, style='filled')\n",
    "        return node_counter+1, node_id\n",
    "        \n",
    "    def __eq__(self, other):\n",
    "        if isinstance(other, DecisionTreeLeaf):\n",
    "            return self.value == other.value\n",
    "        else:\n",
    "            return False\n",
    "        \n",
    "    def to_str(self, indent, lines, names):\n",
    "        val_str = f'{self.value:.4g}' if isinstance(self.value, float) else str(self.value)\n",
    "        lines.append(' '*indent + val_str)\n",
    "\n",
    "\n",
    "class DecisionTreeBranch:\n",
    "\n",
    "    def __init__(self, feature, threshold, low_subtree, high_subtree):\n",
    "        self.feature = feature\n",
    "        self.threshold = threshold\n",
    "        self.low_subtree = low_subtree\n",
    "        self.high_subtree = high_subtree\n",
    "\n",
    "    # For a branch node, we compute the prediction by first considering the feature, and then \n",
    "    # calling the upper or lower subtree, depending on whether the feature is or isn't greater\n",
    "    # than the threshold.\n",
    "    def predict(self, x):\n",
    "        if x[self.feature] <= self.threshold:\n",
    "            return self.low_subtree.predict(x)\n",
    "        else:\n",
    "            return self.high_subtree.predict(x)\n",
    "\n",
    "    # Utility function to draw a tree visually using graphviz.\n",
    "    def draw_tree(self, graph, node_counter, names):\n",
    "        node_counter, low_id = self.low_subtree.draw_tree(graph, node_counter, names)\n",
    "        node_counter, high_id = self.high_subtree.draw_tree(graph, node_counter, names)\n",
    "        node_id = str(node_counter)\n",
    "        fname = f'F{self.feature}' if names is None else names[self.feature]\n",
    "        lbl = f'{fname} > {self.threshold:.4g}?'\n",
    "        graph.node(node_id, lbl, shape='box', fillcolor='yellow', style='filled, rounded')\n",
    "        graph.edge(node_id, low_id, 'False')\n",
    "        graph.edge(node_id, high_id, 'True')\n",
    "        return node_counter+1, node_id\n",
    "        \n",
    "    def to_str(self, indent, lines, names):\n",
    "        pad = ' '*indent\n",
    "        fname = f'F{self.feature}' if names is None else names[self.feature]\n",
    "        lines.append(pad + f'{fname} <= {self.threshold:.3g}?')\n",
    "        lines.append(pad + '  True =>')\n",
    "        self.low_subtree.to_str(indent+4, lines, names)\n",
    "        lines.append(pad + '  False =>')\n",
    "        self.high_subtree.to_str(indent+4, lines, names)\n",
    "\n",
    "\n",
    "class DecisionTree(ABC, BaseEstimator):\n",
    "\n",
    "    def __init__(self, max_depth):\n",
    "        super().__init__()\n",
    "        self.max_depth = max_depth\n",
    "        \n",
    "    # As usual in scikit-learn, the training method is called *fit*. We first process the dataset so that\n",
    "    # we're sure that it's represented as a NumPy matrix. Then we call the recursive tree-building method\n",
    "    # called make_tree (see below).\n",
    "    def fit(self, X, Y):\n",
    "        if isinstance(X, pd.DataFrame):\n",
    "            self.names = X.columns\n",
    "            X = X.to_numpy()\n",
    "        elif isinstance(X, list):\n",
    "            self.names = None\n",
    "            X = np.array(X)\n",
    "        else:\n",
    "            self.names = None\n",
    "        Y = np.array(Y)        \n",
    "        self.root = self.make_tree(X, Y, self.max_depth)\n",
    "        \n",
    "    def draw_tree(self):\n",
    "        graph = Digraph()\n",
    "        self.root.draw_tree(graph, 0, self.names)\n",
    "        return graph\n",
    "    \n",
    "    # By scikit-learn convention, the method *predict* computes the classification or regression output\n",
    "    # for a set of instances.\n",
    "    # To implement it, we call a separate method that carries out the prediction for one instance.\n",
    "    def predict(self, X):\n",
    "        if isinstance(X, pd.DataFrame):\n",
    "            X = X.to_numpy()\n",
    "        return [self.predict_one(x) for x in X]\n",
    "\n",
    "    # Predicting the output for one instance.\n",
    "    def predict_one(self, x):\n",
    "        return self.root.predict(x)        \n",
    "\n",
    "    # This is the recursive training \n",
    "    def make_tree(self, X, Y, max_depth):\n",
    "\n",
    "        # We start by computing the default value that will be used if we'll return a leaf node.\n",
    "        # For classifiers, this will be the most common value in Y.\n",
    "        default_value = self.get_default_value(Y)\n",
    "\n",
    "        # First the two base cases in the recursion: is the training set completely\n",
    "        # homogeneous, or have we reached the maximum depth? Then we need to return a leaf.\n",
    "\n",
    "        # If we have reached the maximum depth, return a leaf with the majority value.\n",
    "        if max_depth == 0:\n",
    "            return DecisionTreeLeaf(default_value)\n",
    "\n",
    "        # If all the instances in the remaining training set have the same output value,\n",
    "        # return a leaf with this value.\n",
    "        if self.is_homogeneous(Y):\n",
    "            return DecisionTreeLeaf(default_value)\n",
    "\n",
    "        # Select the \"most useful\" feature and split threshold. To rank the \"usefulness\" of features,\n",
    "        # we use one of the classification or regression criteria.\n",
    "        # For each feature, we call best_split (defined in a subclass). We then maximize over the features.\n",
    "        n_features = X.shape[1]\n",
    "        \n",
    "        _, best_feature, best_threshold = \\\n",
    "            max(self.best_split(X, Y, feature) \n",
    "                for feature in range(n_features))\n",
    "        \n",
    "        if best_feature is None:\n",
    "            return DecisionTreeLeaf(default_value)\n",
    "\n",
    "        # Split the training set into subgroups, based on whether the selected feature is greater than\n",
    "        # the threshold or not\n",
    "        X_low, X_high, Y_low, Y_high = \\\n",
    "            self.split_by_feature(X, Y, best_feature, best_threshold)\n",
    "\n",
    "        # Build the subtrees using a recursive call. Each subtree is associated\n",
    "        # with a value of the feature.\n",
    "        low_subtree = self.make_tree(X_low, Y_low, max_depth-1)\n",
    "        high_subtree = self.make_tree(X_high, Y_high, max_depth-1)\n",
    "\n",
    "        if low_subtree == high_subtree:\n",
    "            return low_subtree\n",
    "\n",
    "        # Return a decision tree branch containing the result.\n",
    "        return DecisionTreeBranch(best_feature, best_threshold, low_subtree, high_subtree)\n",
    "    \n",
    "    # Utility method that splits the data into the \"upper\" and \"lower\" part, based on a feature\n",
    "    # and a threshold.\n",
    "    def split_by_feature(self, X, Y, feature, threshold):\n",
    "        low = X[:,feature] <= threshold\n",
    "        high = ~low\n",
    "        return X[low], X[high], Y[low], Y[high]\n",
    "    \n",
    "    def __str__(self):\n",
    "        lines = []\n",
    "        self.root.to_str(0, lines, self.names)\n",
    "        return '\\n'.join(lines)\n",
    "    \n",
    "    # The following three methods need to be implemented by the classification and regression subclasses.\n",
    "    \n",
    "    @abstractmethod\n",
    "    def get_default_value(self, Y):\n",
    "        pass\n",
    "\n",
    "    @abstractmethod\n",
    "    def is_homogeneous(self, Y):\n",
    "        pass\n",
    "\n",
    "    @abstractmethod\n",
    "    def best_split(self, X, Y, feature):\n",
    "        pass"
   ]
  },
  {
   "cell_type": "markdown",
   "metadata": {},
   "source": [
    "## Step 1: Implementing the regression model"
   ]
  },
  {
   "cell_type": "markdown",
   "metadata": {},
   "source": [
    "The TreeRegressor class has been implemented similarly to TreeClassifier, and much of the code could be reused since TreeRegressor also inherits from the abstract class DecisionTree. The functions *get_default_value*, *is_homogeneous*, and *best_split* have been implemented differently compared to TreeClassifier, and the function *fit* has been overridden to instead set the criterion function to *variance_scorer*.\n",
    "\n",
    "The *get_default_value* function returns the mean of Y instead of the most common value, aligning with regression tasks. The is_homogeneous function still checks whether a set of output values is homogeneous. However, in the regression case, this condition is met when the variance is smaller than a certain threshold value that can be specified when creating an instance of the class.\n",
    "\n",
    "The *best_split* function for TreeRegressor also differs from *best_split* for TreeClassifier. Instead of keeping track of the class labels for the upper and lower parts, it computes the sums of the upper and left parts of the split. It also calculates the variances of the resulting partitions and selects the split that minimizes the weighted average of these variances. This approach ensures the split improves the predictive accuracy for regression tasks. This homogeneity criterion is given in the assignment and is according to the instructions the most typically used in decision tree regression. It is called \"variance reduction\"."
   ]
  },
  {
   "cell_type": "code",
   "execution_count": 29,
   "metadata": {},
   "outputs": [],
   "source": [
    "\n",
    "class TreeRegressor(DecisionTree, RegressorMixin):\n",
    "    def __init__(self, max_depth=10, criterion='variance', homogeneity_threshold=1e-6):\n",
    "        super().__init__(max_depth)\n",
    "        self.criterion = criterion\n",
    "        self.homogeneity_threshold = homogeneity_threshold\n",
    "        \n",
    "    def variance_scorer(self, size_upper, sum_upper, sq_sum_upper, size_lower, sum_lower, sq_sum_lower, total_variance, total_size):\n",
    "        # Calculate variance for the upper and lower parts if they have elements\n",
    "        # Set variance to 0 if there are no elements\n",
    "        if size_upper > 0:\n",
    "            left_variance = (sq_sum_upper / size_upper) - (sum_upper / size_upper) ** 2\n",
    "        else: \n",
    "            left_variance = 0 \n",
    "        \n",
    "        if size_lower > 0:\n",
    "            right_variance = (sq_sum_lower / size_lower) - (sum_lower / size_lower) ** 2 \n",
    "        else: \n",
    "            right_variance = 0\n",
    "\n",
    "        # Compute the weighted average of variances for both the upper and lower part\n",
    "        weighted_variance = (size_upper / total_size) * left_variance + (size_lower / total_size) * right_variance\n",
    "\n",
    "        # Calculate the variance reduction that was achieved by the split according to the formula given in the assignment and return it\n",
    "        variance_reduction = total_variance - weighted_variance\n",
    "        return variance_reduction\n",
    "        \n",
    "    def fit(self, X, Y):\n",
    "        # For decision tree regressor, homogenity is normally measured with the criterion \"variance reduction\"\n",
    "        if self.criterion == 'variance':\n",
    "            self.criterion_function = self.variance_scorer\n",
    "        else:\n",
    "            raise Exception(f'Unknown criterion: {self.criterion}')\n",
    "        super().fit(X, Y)\n",
    "        self.classes_ = sorted(set(Y))\n",
    "\n",
    " \n",
    "    def get_default_value(self, Y):\n",
    "        \"\"\"Returns the mean of the Y values.\"\"\"\n",
    "        return np.mean(Y)\n",
    "    \n",
    "    def is_homogeneous(self, Y):\n",
    "        \"\"\"Returns True if the variance is lower then the homogeneity threshold, otherwise returns False.\"\"\"\n",
    "        return (np.var(Y) < self.homogeneity_threshold)\n",
    "        \n",
    "    def best_split(self, X, Y, feature):\n",
    "        \"\"\"\n",
    "        Generates the best split by maximizing the variance reduction of the split.\n",
    "\n",
    "        Returns:\n",
    "            max_var_reduction: the maximum variance reduction\n",
    "            feature: the feature that was passed to this function\n",
    "            split_point: the split point that generated the best split\n",
    "        \"\"\"\n",
    "        # Create a list of input-output pairs, where we have sorted\n",
    "        # in ascending order by the input feature we're considering\n",
    "        sorted_indices = np.argsort(X[:, feature])        \n",
    "        X_sorted = np.array(X[sorted_indices, feature])\n",
    "        Y_sorted = np.array(Y[sorted_indices])\n",
    "\n",
    "        n = len(Y)\n",
    "\n",
    "        # Initialize sums and sizes for upper and lower parts of the split\n",
    "        # This is done to avoid having to compute the variances from scratch at each possible threshold\n",
    "        sum_upper = 0\n",
    "        sq_sum_upper = 0\n",
    "        size_upper = 0\n",
    "        sum_lower = np.sum(Y_sorted)\n",
    "        sq_sum_lower = np.sum(Y_sorted**2)\n",
    "        size_lower = n\n",
    "        total_variance = np.var(Y_sorted)\n",
    "\n",
    "        # Keep track of the best result so far\n",
    "        max_var_reduction = -np.inf\n",
    "        max_i = None\n",
    "\n",
    "        # Go through all the positions (excluding the last position)\n",
    "        for i in range(0, n-1):\n",
    "\n",
    "            # Input and output at the current position\n",
    "            x_i = X_sorted[i]\n",
    "            y_i = Y_sorted[i]\n",
    "            \n",
    "            # Update sums and sizes for the upper and lower part\n",
    "            sum_upper += y_i\n",
    "            size_upper += 1\n",
    "            sq_sum_upper += y_i**2\n",
    "            sum_lower -= y_i\n",
    "            sq_sum_lower -= y_i**2\n",
    "            size_lower -= 1\n",
    "\n",
    "            # If the input is equal to the input at the next position, we will\n",
    "            # not consider a split here.\n",
    "            x_next = X_sorted[i+1]\n",
    "            if x_i == x_next:\n",
    "                continue\n",
    "\n",
    "            # Compute the homogeneity criterion for a split at this position\n",
    "            variance_reduction = self.criterion_function(size_upper, sum_upper, sq_sum_upper, size_lower, sum_lower, sq_sum_lower, total_variance, n)\n",
    "\n",
    "            # If this is the best split, remember it.\n",
    "            if variance_reduction > max_var_reduction:\n",
    "                max_var_reduction = variance_reduction\n",
    "                max_i = i\n",
    "            \n",
    "        # If we didn't find any split (meaning that all inputs are identical), return\n",
    "        # a dummy value.\n",
    "        if max_i is None:\n",
    "            return -np.inf, None, None\n",
    "\n",
    "        # Otherwise, return the best split we found and its score.\n",
    "        split_point = 0.5*(X_sorted[max_i] + X_sorted[max_i+1])\n",
    "        return max_var_reduction, feature, split_point\n"
   ]
  },
  {
   "cell_type": "markdown",
   "metadata": {},
   "source": [
    "## Step 2: Sanity check"
   ]
  },
  {
   "cell_type": "code",
   "execution_count": 30,
   "metadata": {},
   "outputs": [],
   "source": [
    "def make_some_data(n):\n",
    "    \"\"\"Generates some test data.\"\"\"\n",
    "    x = np.random.uniform(-5, 5, size=n)\n",
    "    Y = (x > 1) + 0.1*np.random.normal(size=n)\n",
    "    X = x.reshape(n, 1) # X needs to be a 2-dimensional matrix\n",
    "    return X, Y"
   ]
  },
  {
   "cell_type": "markdown",
   "metadata": {},
   "source": [
    "The input feature X is a single continuous feature that was sampled uniformly between -5 and 5 and then reshaped into a 2D-matrix. \n",
    "\n",
    "The target variable Y is more interesting since it contains two parts, one part is n samples sampled from the normal distribution. The values are then scaled by 0.1 which will mean the values will be mostly close to 0 in relative terms. The second part is binary, either 0 or 1 depending on the value of x. When x > 1, 1 is added to the value at that index for Y. This means that all values for x > 1 will be distributed closely to the Y value 1 and when x <= 1 the same thing will happen but around 0 instead. The fact that we have two groups like this makes it more logical that this dataset would be used for a classification task.\n",
    "\n",
    "A classification tree would probably be best for describing this data since there will be what we could call two groups that could be nicely separated by a decision boundrary from a Decision Tree. If we still want a Regressor from the Decision Tree like what has been implemented above the decision tree sould probably be a straight line at y = 0 from negative infinity until x = 1 and then it should be a straigt line at y = 1 until infinity after that. That would be the best way to describe the data with a Regressor Decision Tree.\n",
    "\n",
    "Because of this it would make sense that the *max_depth* parameter should be set to 1 since there only has to be a single decision node. What it would look like will be shown below. The model could fit the training data better with a higher depth, but this would cause the model to overfit."
   ]
  },
  {
   "cell_type": "code",
   "execution_count": 31,
   "metadata": {},
   "outputs": [],
   "source": [
    "X, Y = make_some_data(20)\n",
    "Xtrain, Xtest, Ytrain, Ytest = train_test_split(X, Y, test_size=0.2, random_state=0)"
   ]
  },
  {
   "cell_type": "markdown",
   "metadata": {},
   "source": [
    "Testing the model with max_depth = 1 and printing the MSE and showing the tree. The tree does not look exacly like the description in the text above. However, this could be because there are no values at exactly or very close to 1 which cause it to deviate from those values. Furthermore, the number of data points was very small, only 20 which makes the predictions deviate from what would be optimal if the number of data points was very large."
   ]
  },
  {
   "cell_type": "code",
   "execution_count": 32,
   "metadata": {},
   "outputs": [
    {
     "name": "stdout",
     "output_type": "stream",
     "text": [
      "0.00412372748465772\n"
     ]
    },
    {
     "data": {
      "image/svg+xml": [
       "<?xml version=\"1.0\" encoding=\"UTF-8\" standalone=\"no\"?>\n",
       "<!DOCTYPE svg PUBLIC \"-//W3C//DTD SVG 1.1//EN\"\n",
       " \"http://www.w3.org/Graphics/SVG/1.1/DTD/svg11.dtd\">\n",
       "<!-- Generated by graphviz version 12.2.1 (20241206.2353)\n",
       " -->\n",
       "<!-- Pages: 1 -->\n",
       "<svg width=\"162pt\" height=\"133pt\"\n",
       " viewBox=\"0.00 0.00 162.41 132.50\" xmlns=\"http://www.w3.org/2000/svg\" xmlns:xlink=\"http://www.w3.org/1999/xlink\">\n",
       "<g id=\"graph0\" class=\"graph\" transform=\"scale(1 1) rotate(0) translate(4 128.5)\">\n",
       "<polygon fill=\"white\" stroke=\"none\" points=\"-4,4 -4,-128.5 158.41,-128.5 158.41,4 -4,4\"/>\n",
       "<!-- 0 -->\n",
       "<g id=\"node1\" class=\"node\">\n",
       "<title>0</title>\n",
       "<ellipse fill=\"lightgrey\" stroke=\"black\" cx=\"36.51\" cy=\"-18\" rx=\"36.51\" ry=\"18\"/>\n",
       "<text text-anchor=\"middle\" x=\"36.51\" y=\"-12.95\" font-family=\"Times,serif\" font-size=\"14.00\">0.0249</text>\n",
       "</g>\n",
       "<!-- 1 -->\n",
       "<g id=\"node2\" class=\"node\">\n",
       "<title>1</title>\n",
       "<ellipse fill=\"lightgrey\" stroke=\"black\" cx=\"122.51\" cy=\"-18\" rx=\"31.9\" ry=\"18\"/>\n",
       "<text text-anchor=\"middle\" x=\"122.51\" y=\"-12.95\" font-family=\"Times,serif\" font-size=\"14.00\">1.028</text>\n",
       "</g>\n",
       "<!-- 2 -->\n",
       "<g id=\"node3\" class=\"node\">\n",
       "<title>2</title>\n",
       "<path fill=\"yellow\" stroke=\"black\" d=\"M108.88,-124.5C108.88,-124.5 50.13,-124.5 50.13,-124.5 44.13,-124.5 38.13,-118.5 38.13,-112.5 38.13,-112.5 38.13,-100.5 38.13,-100.5 38.13,-94.5 44.13,-88.5 50.13,-88.5 50.13,-88.5 108.88,-88.5 108.88,-88.5 114.88,-88.5 120.88,-94.5 120.88,-100.5 120.88,-100.5 120.88,-112.5 120.88,-112.5 120.88,-118.5 114.88,-124.5 108.88,-124.5\"/>\n",
       "<text text-anchor=\"middle\" x=\"79.51\" y=\"-101.45\" font-family=\"Times,serif\" font-size=\"14.00\">F0 &gt; 1.155?</text>\n",
       "</g>\n",
       "<!-- 2&#45;&gt;0 -->\n",
       "<g id=\"edge1\" class=\"edge\">\n",
       "<title>2&#45;&gt;0</title>\n",
       "<path fill=\"none\" stroke=\"black\" d=\"M71.01,-88.41C64.97,-76.25 56.72,-59.66 49.81,-45.76\"/>\n",
       "<polygon fill=\"black\" stroke=\"black\" points=\"53.1,-44.51 45.51,-37.12 46.83,-47.63 53.1,-44.51\"/>\n",
       "<text text-anchor=\"middle\" x=\"76.11\" y=\"-57.2\" font-family=\"Times,serif\" font-size=\"14.00\">False</text>\n",
       "</g>\n",
       "<!-- 2&#45;&gt;1 -->\n",
       "<g id=\"edge2\" class=\"edge\">\n",
       "<title>2&#45;&gt;1</title>\n",
       "<path fill=\"none\" stroke=\"black\" d=\"M88,-88.41C94.05,-76.25 102.29,-59.66 109.21,-45.76\"/>\n",
       "<polygon fill=\"black\" stroke=\"black\" points=\"112.19,-47.63 113.5,-37.12 105.92,-44.51 112.19,-47.63\"/>\n",
       "<text text-anchor=\"middle\" x=\"117.61\" y=\"-57.2\" font-family=\"Times,serif\" font-size=\"14.00\">True</text>\n",
       "</g>\n",
       "</g>\n",
       "</svg>\n"
      ],
      "text/plain": [
       "<graphviz.graphs.Digraph at 0x1258edbd0>"
      ]
     },
     "execution_count": 32,
     "metadata": {},
     "output_type": "execute_result"
    }
   ],
   "source": [
    "model = TreeRegressor(max_depth=1)\n",
    "model.fit(Xtrain, Ytrain)\n",
    "Yguess = model.predict(Xtest)\n",
    "print(mean_squared_error(Ytest, Yguess))\n",
    "model.draw_tree()"
   ]
  },
  {
   "cell_type": "markdown",
   "metadata": {},
   "source": [
    "In order to better show the predictions, the predictions were plotted along side the actual values to show how the model makes its predictions below."
   ]
  },
  {
   "cell_type": "code",
   "execution_count": 33,
   "metadata": {},
   "outputs": [
    {
     "name": "stdout",
     "output_type": "stream",
     "text": [
      "MSE: 0.00412372748465772\n"
     ]
    },
    {
     "data": {
      "image/png": "[encoded data removed]",
      "text/plain": [
       "<Figure size 640x480 with 1 Axes>"
      ]
     },
     "metadata": {},
     "output_type": "display_data"
    }
   ],
   "source": [
    "model = TreeRegressor(max_depth=1)\n",
    "model.fit(Xtrain, Ytrain)\n",
    "Yguess = model.predict(Xtest)\n",
    "print(f\"MSE: {mean_squared_error(Ytest, Yguess)}\")\n",
    "model.draw_tree()\n",
    "\n",
    "Y_predictions = model.predict(X)\n",
    "\n",
    "plt.title(\"Actual and Predicted Values with max_depth set to 1\")\n",
    "plt.scatter(X, Y, label=\"Actual Value\", alpha=0.8)\n",
    "plt.scatter(X, Y_predictions, label=\"Predicted Value\", alpha=0.5, s=40)\n",
    "plt.legend()\n",
    "plt.show()"
   ]
  },
  {
   "cell_type": "markdown",
   "metadata": {},
   "source": [
    "**Does the result make sense?**\n",
    "\n",
    "Yes, the result makes sense. The predictions closely follow two lines that was described above and is what is expected. It can also be seen that the MSE is very low, which also makes sense since the scaling factor was applied that ensures the dots are close to either 0 or 1. It is important to keep in mind here that the MSE does not represent the generalizability of the model, it is simply a metric on how well the model can be fit to the training data, so the training loss.\n",
    "\n",
    "**What happens if we allow the tree depth to be a large number?**\n",
    "\n",
    "In order to get the answer to this, some experimentation is carried out below."
   ]
  },
  {
   "cell_type": "code",
   "execution_count": 34,
   "metadata": {},
   "outputs": [
    {
     "data": {
      "image/png": "[encoded data removed]",
      "text/plain": [
       "<Figure size 640x480 with 9 Axes>"
      ]
     },
     "metadata": {},
     "output_type": "display_data"
    }
   ],
   "source": [
    "fig, ax = plt.subplots(3, 3)\n",
    "for i in range(9):\n",
    "\n",
    "    model = TreeRegressor(max_depth=i + 1)\n",
    "    model.fit(Xtrain, Ytrain)\n",
    "    Yguess = model.predict(Xtest)\n",
    "    Y_predictions = model.predict(X)\n",
    "\n",
    "    # To find the right subplot\n",
    "    row = i // 3\n",
    "    col = i % 3\n",
    "    ax[row][col].title.set_text(f\"max_depth = {i + 1}, MSE: {round(mean_squared_error(Ytest, Yguess), 4)}\")\n",
    "    ax[row][col].title.set_size(6)\n",
    "    ax[row][col].scatter(X, Y, label=\"Actual Value\", alpha=0.9)\n",
    "    ax[row][col].scatter(X, Y_predictions, label=\"Predicted Value\", alpha=0.5)\n",
    "    ax[row][col].xaxis.set_tick_params(labelsize=6)\n",
    "    ax[row][col].yaxis.set_tick_params(labelsize=6)\n",
    "\n",
    "plt.subplots_adjust(left=None, bottom=None, right=None, top=20, wspace=None, hspace=None)\n",
    "plt.tight_layout()\n",
    "plt.show()"
   ]
  },
  {
   "cell_type": "markdown",
   "metadata": {},
   "source": [
    "What can be seen is that the model start to perfectly follow the dots in some cases when the *max_depth* is increased to 10. With more splits the model becomes more complex but with this amount of data it is able to perfetly cover the data points. In doing so, it is also interesting to see that the MSE actually increases in some cases (it depends on the run since the data is generated randomly). In the plot above where all values of *max_depth* from 1 to 9 was tested, the lowest MSE was achieved when *max_depth* was set to 1. Another interesting thing is that as *max_depth* increases above 5, there is no longer any change to the predicted values, **the values in orange**, no longer during most runs, the model is unable to fit better to the data. One interesting experiment was increasing the number of data points from 20 to 200, then there was a change even after *max_depth* went beyond 6 and the MSE became worse the more complex we made the model. It could also be seen that the predictions come much closer to 0:s and 1:s and that the split is much closer to 1 on the x-axis."
   ]
  },
  {
   "cell_type": "markdown",
   "metadata": {},
   "source": [
    "## Step 3: Predicting apartment prices using decision tree regression"
   ]
  },
  {
   "cell_type": "markdown",
   "metadata": {},
   "source": [
    "This part of the assignment asks the students to make some predictions on apartment prices using the Decision Tree model. The next cell will read the data from the file."
   ]
  },
  {
   "cell_type": "code",
   "execution_count": 35,
   "metadata": {},
   "outputs": [],
   "source": [
    "alldata = pd.read_csv(\"sberbank.csv\")\n",
    "\n",
    "# Convert the timestamp string to an integer representing the year.\n",
    "def get_year(timestamp):\n",
    "    return int(timestamp[:4])\n",
    "alldata['year'] = alldata.timestamp.apply(get_year)\n",
    "\n",
    "# Select the 7 input columns and the output column.\n",
    "selected_columns = ['price_doc', 'year', 'full_sq', 'life_sq', 'floor', 'num_room', 'kitch_sq', 'full_all']\n",
    "alldata = alldata[selected_columns]\n",
    "alldata = alldata.dropna()\n",
    "\n",
    "# Shuffle.\n",
    "alldata_shuffled = alldata.sample(frac=1.0, random_state=0)\n",
    "\n",
    "# Separate the input and output columns.\n",
    "X = alldata_shuffled.drop('price_doc', axis=1)\n",
    "# For the output, we'll use the log of the sales price.\n",
    "Y = alldata_shuffled['price_doc'].apply(np.log)\n",
    "\n",
    "# Split into training and test sets.\n",
    "Xtrain, Xtest, Ytrain, Ytest = train_test_split(X, Y, test_size=0.2, random_state=0)"
   ]
  },
  {
   "cell_type": "markdown",
   "metadata": {},
   "source": [
    "The next step was to train and evaluate the model and then report what tree depth was used and what score was achieved. In order to do that, we tried training the model for different values of *max_depth* and then chose the best one."
   ]
  },
  {
   "cell_type": "code",
   "execution_count": 36,
   "metadata": {},
   "outputs": [
    {
     "name": "stdout",
     "output_type": "stream",
     "text": [
      "0.28624256155337435\n"
     ]
    },
    {
     "data": {
      "image/png": "[encoded data removed]",
      "text/plain": [
       "<Figure size 640x480 with 1 Axes>"
      ]
     },
     "metadata": {},
     "output_type": "display_data"
    }
   ],
   "source": [
    "model = TreeRegressor(max_depth=6)\n",
    "model.fit(Xtrain, Ytrain)\n",
    "Yguess = model.predict(Xtest)\n",
    "print(mean_squared_error(Ytest, Yguess))\n",
    "\n",
    "mse_values = []\n",
    "for i in range(20):\n",
    "    model = TreeRegressor(max_depth=i)\n",
    "    model.fit(Xtrain, Ytrain)\n",
    "    Yguess = model.predict(Xtest)\n",
    "    mse_values.append(mean_squared_error(Ytest, Yguess))\n",
    "\n",
    "plt.title(\"MSE for different values of max_depth\")\n",
    "plt.plot(mse_values)\n",
    "plt.xlabel(\"max_depth\")\n",
    "plt.ylabel(\"MSE\")\n",
    "plt.xticks([i for i in range(20)])\n",
    "plt.show()"
   ]
  },
  {
   "cell_type": "markdown",
   "metadata": {},
   "source": [
    "It could be seen that the best MSE value was achieved when the max_depth was set to 6. So that is the final value that was chosen.\n",
    "\n",
    "#### Final Run of step 3 with max_depth = 6 and MSE = 0.28624256155337435"
   ]
  },
  {
   "cell_type": "code",
   "execution_count": 37,
   "metadata": {},
   "outputs": [
    {
     "name": "stdout",
     "output_type": "stream",
     "text": [
      "0.28624256155337435\n"
     ]
    }
   ],
   "source": [
    "model = TreeRegressor(max_depth=6)\n",
    "model.fit(Xtrain, Ytrain)\n",
    "Yguess = model.predict(Xtest)\n",
    "print(mean_squared_error(Ytest, Yguess))"
   ]
  },
  {
   "cell_type": "markdown",
   "metadata": {},
   "source": [
    "## Step 4: Underfitting and overfitting"
   ]
  },
  {
   "cell_type": "code",
   "execution_count": 38,
   "metadata": {},
   "outputs": [
    {
     "data": {
      "image/png": "[encoded data removed]",
      "text/plain": [
       "<Figure size 640x480 with 1 Axes>"
      ]
     },
     "metadata": {},
     "output_type": "display_data"
    }
   ],
   "source": [
    "def evaluation_score_plot(Xtrain, Ytrain, Xtest, Ytest):\n",
    "    max_depth_range = range(0, 13)\n",
    "    train_scores = []\n",
    "    test_scores = []\n",
    "\n",
    "    for max_depth in max_depth_range:\n",
    "        model = TreeRegressor(max_depth=max_depth)\n",
    "        model.fit(Xtrain, Ytrain)\n",
    "        Yguess_train = model.predict(Xtrain)\n",
    "        Yguess_test = model.predict(Xtest)\n",
    "        train_scores.append(mean_squared_error(Ytrain, Yguess_train))\n",
    "        test_scores.append(mean_squared_error(Ytest, Yguess_test))\n",
    "\n",
    "    plt.plot(max_depth_range, train_scores, label='Train MSE', color='blue', marker='o')\n",
    "    plt.plot(max_depth_range, test_scores, label='Test MSE', color='red', marker='o')\n",
    "\n",
    "    plt.title('Overfitting and underfitting curve', fontsize=16)\n",
    "    plt.xlabel('max depth', fontsize=12)\n",
    "    plt.xticks([i for i in range(13)])\n",
    "    plt.ylabel('mean squared error', fontsize=12)\n",
    "    plt.legend(fontsize=10)\n",
    "    plt.grid(True)\n",
    "    plt.show()\n",
    "\n",
    "\n",
    "evaluation_score_plot(Xtrain, Ytrain, Xtest, Ytest)"
   ]
  },
  {
   "cell_type": "markdown",
   "metadata": {},
   "source": [
    "**Comment on the differences between the curves**\n",
    "\n",
    "The plot shows that the MSE for the training and test data change when *max_depth* increases. At first both MSE values decrease as the model improves and the initial underfitting is reduced. After *max_depth* = 6 it can be seen that the training MSE continues to decrease as the model get better fitted to the training data and the test MSE on the other hand starts to increase. This indicates overfitting as the model starts to memorize the data which reduces its generalizability. It makes sense that this would happen as when the model becomes too complex, the best fit for the training data could better memorize the data but lose knowledge about the bigger trends that can be used to explain the value of unseen data points. It is the test MSE curve that shows the trade-off between underfitting and overfitting, and it indicates that the optimal max depth is around *max_depth* = 6."
   ]
  }
 ],
 "metadata": {
  "kernelspec": {
   "display_name": "ml-env",
   "language": "python",
   "name": "python3"
  },
  "language_info": {
   "codemirror_mode": {
    "name": "ipython",
    "version": 3
   },
   "file_extension": ".py",
   "mimetype": "text/x-python",
   "name": "python",
   "nbconvert_exporter": "python",
   "pygments_lexer": "ipython3",
   "version": "3.10.6"
  },
  "orig_nbformat": 4
 },
 "nbformat": 4,
 "nbformat_minor": 2
}
